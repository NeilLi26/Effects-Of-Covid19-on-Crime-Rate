{
 "cells": [
  {
   "cell_type": "markdown",
   "id": "d00bd42c",
   "metadata": {},
   "source": [
    "# The effects of COVID-19 on crime rates in Vancouver\n",
    "\n",
    "group project proposal:\n",
    "\n",
    "Sean Lee, Neil Li, Tracy Wang, Wendi Zhong"
   ]
  },
  {
   "cell_type": "markdown",
   "id": "dd69795b",
   "metadata": {},
   "source": [
    "## Introduction\n",
    "\n",
    "Before the pandemic, our teammate Neil has experienced no crimes more major than perhaps public drunkeness, but once the pandemic started, he has been subjected to two different attempts of grand theft auto and one shooting. This can't help but make us wonder: is this simply a streak of bad luck or is this the result of the pandemic?\n",
    "\n",
    "But it wasn't so simple, as research (Nivette et. al., 2021) has shown that crime rate decreases due to lockdowns forcing people to stay in their homes, there are also arguments to be had about how the economic downturn (Munywoki, 2020) could lead more people into commiting crimes for financial reasons.\n",
    "\n",
    "The result of this could have fascinating ramifications, and it could inform governments on the potential social benefits of providing stimulus cheques.\n",
    "\n",
    "### Research Question:\n",
    "\n",
    "<b>Has Covid 19 increased the proportion of financially motivated crimes in Vancouver?<b>\n",
    "    \n",
    "### Hypothesis:\n",
    "\n",
    "$H_0: p_1 - p_2 = 0$ vs $H_1: p_1 - p_2 \\lt 0$\n",
    "    \n",
    "$p_1$: proportion of financially motivated crimes before the pandemic\n",
    "    \n",
    "$p_2$: proportion of financially motivated crimes after the pandemic\n",
    "    \n",
    "We will compare the results of our hypothesis test to a significance level of $\\alpha$ = 0.05, as this is the most common significance level."
   ]
  },
  {
   "cell_type": "code",
   "execution_count": null,
   "id": "5667a216",
   "metadata": {},
   "outputs": [],
   "source": [
    "# Loading libraries\n",
    "library(tidyverse)\n",
    "library(datateachr)\n",
    "library(repr)\n",
    "library(digest)\n",
    "library(infer)\n",
    "library(grid)"
   ]
  },
  {
   "cell_type": "markdown",
   "id": "539345c5",
   "metadata": {},
   "source": [
    "## Dataset Info:\n",
    "\n",
    "The dataset is downloaded from \\\"[Vancouver Crime Data](https://geodash.vpd.ca/opendata/)\\\", an open data dataset provided by the Vancouver Police Department. Which we selected to list all the the crimes recorded in every neighbourhood in Vancouver since 2003. The dataset (Vancouver Crime Data) of specific crimes is directly downloaded from the Vancouver Police Department. We are confident that the dataset is trustworthy and representative with no bias in the data; even if there could still be unreported crimes."
   ]
  },
  {
   "cell_type": "code",
   "execution_count": null,
   "id": "45a67d51",
   "metadata": {},
   "outputs": [],
   "source": [
    "# reading data\n",
    "crimes_url <- \"https://raw.githubusercontent.com/NeilLi26/STAT201-project/main/crimedata_csv_AllNeighbourhoods_AllYears.csv\"\n",
    "crime_data <- read.csv(crimes_url)\n",
    "head(crime_data)"
   ]
  },
  {
   "cell_type": "markdown",
   "id": "b4a6b26d",
   "metadata": {},
   "source": [
    "Because we want to have the crime data be more representative of the difference between the years leading up to the pandemic to the years during and after the pandemic, we will filter the data to only include years from 2017 onwards, and before November since 2022 has not had a November yet. We will also only need the columns containing the type of the crime, year the crime was committed."
   ]
  },
  {
   "cell_type": "code",
   "execution_count": null,
   "id": "4827088f",
   "metadata": {},
   "outputs": [],
   "source": [
    "# selecting data after 2017 and before November\n",
    "crime_data_processed <- crime_data %>%\n",
    "    filter(YEAR >= 2017, MONTH <= 10) %>%\n",
    "    select(TYPE, YEAR)\n",
    "head(crime_data_processed)"
   ]
  },
  {
   "cell_type": "markdown",
   "id": "b473efa0-9845-42f5-b110-b5974e361f89",
   "metadata": {},
   "source": [
    "We want to know what kinds of crimes are present, in order for us to determine what kinds of crimes present could be considered as financially motivated."
   ]
  },
  {
   "cell_type": "code",
   "execution_count": null,
   "id": "d50ed280-ca37-4e43-b454-f2621f7ca0d6",
   "metadata": {
    "tags": []
   },
   "outputs": [],
   "source": [
    "crime_types <- crime_data_processed %>%\n",
    "    select(TYPE) %>%\n",
    "    group_by(TYPE) %>%\n",
    "    summarise(n = n()) %>%\n",
    "    select(TYPE)\n",
    "crime_types"
   ]
  },
  {
   "cell_type": "markdown",
   "id": "a114a6bf-6936-4d8b-b709-9ae6bc8a94db",
   "metadata": {},
   "source": [
    "We deem the \"Breaking and Entering\" and \"Theft\" type crimes to be financially motivated. This was decided from the tibble above, and some further research by ourselves (Ferguson E., 2015), the crimes that would likely be considered as financially motivated would be:"
   ]
  },
  {
   "cell_type": "code",
   "execution_count": null,
   "id": "5078ac85-38bb-4dc1-8c81-ab8275e439d6",
   "metadata": {},
   "outputs": [],
   "source": [
    "financial_crimes <- c(\"Break and Enter Commercial\", \"Break and Enter Residential/Other\", \"Other Theft\", \"Theft from Vehicle\",\n",
    "                     \"Theft of Bicycle\", \"Theft of Vehicle\")"
   ]
  },
  {
   "cell_type": "markdown",
   "id": "a2120553-2ff5-4285-8cb1-130d5506afb4",
   "metadata": {},
   "source": [
    "## Methods and Results"
   ]
  },
  {
   "cell_type": "markdown",
   "id": "c843afdd-e569-43a7-a6e6-42e28a8a42b3",
   "metadata": {},
   "source": [
    "### Bootstrapping"
   ]
  },
  {
   "cell_type": "markdown",
   "id": "b5ab88cb",
   "metadata": {},
   "source": [
    "We first decided to use a bootstrap method to get a better understanding of what the difference of proportions look like, so that we could have good idea of what to expect when we move to hypothesis testing.\n",
    "\n",
    "First of all, we would like to visualize the distribution of the difference of proportions, by taking a series of bootstrap samples and calculating the proportion of crimes that are financially motivated before and after the pandemic, and calculating the difference between them."
   ]
  },
  {
   "cell_type": "code",
   "execution_count": null,
   "id": "9ccac60f",
   "metadata": {},
   "outputs": [],
   "source": [
    "# take a single sample with size 2000 from population\n",
    "set.seed(2190)\n",
    "sample_size <- 2000\n",
    "\n",
    "crime_sample <- crime_data_processed %>%\n",
    "    rep_sample_n(size = sample_size, replace = FALSE) %>%\n",
    "    mutate(Pandemic = ifelse(YEAR < 2020, \"Before\", \"After\"))\n",
    "\n",
    "# create 1000 bootstrap samples with size 2000 of the difference in crimes commited before the pandemic \n",
    "# (YEAR < 2020) \n",
    "set.seed(2190)\n",
    "bootstrap_sample <- crime_sample %>%\n",
    "    rep_sample_n(size = sample_size, reps = 1000, replace = TRUE)%>%\n",
    "    group_by(replicate,Pandemic)%>%\n",
    "    summarize(prop = sum(TYPE %in% financial_crimes)/n())%>%\n",
    "    pivot_wider(names_from = Pandemic, values_from = prop) %>%\n",
    "    mutate(diff = Before - After) \n",
    "    \n",
    "head(bootstrap_sample)\n",
    "\n"
   ]
  },
  {
   "cell_type": "code",
   "execution_count": null,
   "id": "e4cabb4e-2c2f-4df7-bb78-18ee617314ef",
   "metadata": {},
   "outputs": [],
   "source": [
    "#Visualize the bootstrap distribution\n",
    "bootstrap_sampling_distribution <- bootstrap_sample%>%\n",
    "    ggplot(aes(x = diff)) +\n",
    "    geom_histogram(binwidth = 0.01) +\n",
    "    xlab(\"Difference in Crimes Commited before and after Pandemic\") +\n",
    "    ggtitle(\"Bootstrap Sampling Distribution\") \n",
    "    \n",
    "bootstrap_sampling_distribution"
   ]
  },
  {
   "cell_type": "markdown",
   "id": "b027ae2d-e0e5-4116-95e6-d1f7bae215d5",
   "metadata": {},
   "source": [
    "We then calculate all the important statistics, which could then be calcualted"
   ]
  },
  {
   "cell_type": "code",
   "execution_count": null,
   "id": "ebb3aad3-87d0-4600-8a4d-b3cbb97ce77c",
   "metadata": {},
   "outputs": [],
   "source": [
    "# calculate the mean and var of difference in crimes commited\n",
    "sample_mean_proportion <- mean(bootstrap_sample$diff)\n",
    "sample_proportion_var <- var(bootstrap_sample$diff)\n",
    "\n",
    "#obtain 95% confidence interval \n",
    "ci <- bootstrap_sample %>%\n",
    "    get_ci(level = 0.95, type = \"percentile\")\n",
    "bootstrap_Table <- data.frame(sample_mean, sample_var) %>%\n",
    "    merge(ci)\n",
    "bootstrap_Table"
   ]
  },
  {
   "cell_type": "markdown",
   "id": "ebd1a638-23ae-4fc9-a777-4c376210e044",
   "metadata": {},
   "source": [
    "### CLT Based Approach"
   ]
  },
  {
   "cell_type": "markdown",
   "id": "28e6b404",
   "metadata": {},
   "source": [
    "Because this is a large dataset, we have the luxury of creating many large samples, and with those large samples we could apply the central limit theorem to get more crucial data."
   ]
  },
  {
   "cell_type": "code",
   "execution_count": null,
   "id": "1c8cbbc1-1448-4002-b504-4074126191b4",
   "metadata": {},
   "outputs": [],
   "source": [
    "#Visualize the bootstrap distribution with 95% confidence interval\n",
    "ci_plot <- bootstrap_sample%>%\n",
    "    ggplot(aes(x = diff)) +\n",
    "    geom_histogram (binwidth = 0.01, colour = \"white\", fill = \"grey\") +\n",
    "    annotate(\"rect\", xmin = ci$lower_ci, xmax = ci$upper_ci, ymin = 0, ymax = Inf,\n",
    "             fill = \"deepskyblue\",\n",
    "             alpha = 0.3) +\n",
    "    xlab(\"Difference in Crime Commited Before and After Pandemic\")+\n",
    "    ggtitle(\"Bootstrap Distribution with 95% Confidence Interval\") +\n",
    "    geom_vline(aes(xintercept= sample_mean), colour = \"red\")\n",
    "ci_plot"
   ]
  },
  {
   "cell_type": "markdown",
   "id": "73bb3056-3219-40f7-b38c-8bc09342e868",
   "metadata": {},
   "source": [
    "For comparison's sake, we were also interested in how different the results we got from theoretical calculations would differ compared to the results we got using bootstrapping. So using the same seed, we took some samples first to get a proper confidence interval again, to see how much of the distribution is below 0."
   ]
  },
  {
   "cell_type": "code",
   "execution_count": null,
   "id": "a9fa894b-fb7a-459f-b7f6-525f25e7aaaa",
   "metadata": {},
   "outputs": [],
   "source": [
    "## make hypothesis test for difference proportions based \n",
    "# on bootstrapping methods, see Tutorial 6 question 3 for examples\n",
    "\n",
    "# calculate observed test statistic\n",
    "obs_test_stat <- mean(bootstrap_sample$diff)\n",
    "    \n",
    "obs_test_stat\n",
    "\n",
    "# construct null model\n",
    "\n",
    "null_model <- \n",
    "    bootstrap_sample %>% \n",
    "    mutate(stat = diff - (obs_test_stat - 0 ) )\n",
    "head(null_model)\n",
    "\n"
   ]
  },
  {
   "cell_type": "code",
   "execution_count": null,
   "id": "9a076467-41a1-4694-85fc-a00c1b97f501",
   "metadata": {},
   "outputs": [],
   "source": [
    "# visualize the null model\n",
    "null_model_plot <-\n",
    "    null_model %>% \n",
    "    ggplot(aes(x = stat)) +\n",
    "    geom_histogram() +\n",
    "    geom_vline(xintercept = obs_test_stat, color = \"red\", alpha=.3, lwd=2)  +\n",
    "    xlab(\"Difference in Crime Commited Before and After Pandemic\") +\n",
    "    ggtitle(\"Null Distribution\") \n",
    "\n",
    "\n",
    "null_model_plot\n"
   ]
  },
  {
   "cell_type": "code",
   "execution_count": null,
   "id": "fc8e9b39-9bbc-4234-881f-e1589c38107a",
   "metadata": {},
   "outputs": [],
   "source": [
    "# obtain p-value\n",
    "p_value <- mean(null_model$stat > obs_test_stat )\n",
    "\n",
    "p_value"
   ]
  },
  {
   "cell_type": "code",
   "execution_count": null,
   "id": "c903b9d0-58e5-48d9-b620-58f7f0cdaa25",
   "metadata": {},
   "outputs": [],
   "source": [
    "# take 1000 single sample with size 2000 from population\n",
    "\n",
    "set.seed(2190)\n",
    "\n",
    "samples_CLT <- crime_data_processed %>%\n",
    "    rep_sample_n(size = 2000, reps = 1000, replace = FALSE) %>%\n",
    "    mutate(Pandemic = ifelse(YEAR < 2020, \"Before\", \"After\"))\n",
    "\n",
    "head(samples_CLT)"
   ]
  },
  {
   "cell_type": "code",
   "execution_count": null,
   "id": "2fb4e5fc-e6ca-4ba0-8c59-6213e7a09929",
   "metadata": {},
   "outputs": [],
   "source": [
    "# calculate difference of crimes before and after 2020\n",
    "\n",
    "diff_sampling_dist_CLT <- \n",
    "samples_CLT %>%\n",
    "    group_by(replicate , Pandemic)%>%\n",
    "    summarize(prop = sum(TYPE %in% financial_crimes)/n()) %>%\n",
    "    pivot_wider(names_from = Pandemic, values_from = prop) %>%\n",
    "    mutate(diff = Before - After) \n",
    "\n",
    "# Visualize size 2000 sampling distribution\n",
    "diff_sampling_dist_plot_CLT <- \n",
    "diff_sampling_dist_CLT %>%\n",
    "   ggplot(aes(x = diff)) +\n",
    "   geom_histogram(bins = 20, color = 'white') +\n",
    "   ggtitle(\"Sampling Distribution of Difference of Crimes Before and After Covid\") +\n",
    "   xlab(\"Difference of Crimes Before and After Covid\") +\n",
    "   theme(text = element_text(size = 14))\n",
    "diff_sampling_dist_plot_CLT"
   ]
  },
  {
   "cell_type": "code",
   "execution_count": null,
   "id": "c6653587-f34b-431b-ba83-74300089fd13",
   "metadata": {},
   "outputs": [],
   "source": [
    "# Get mean and var of sampling distribution\n",
    "mean_CLT <- mean(diff_sampling_dist_CLT$diff)\n",
    "var_CLT <- var(diff_sampling_dist_CLT$diff)\n",
    "\n",
    "# Get 95% confidence interval\n",
    "ci_CLT <- diff_sampling_dist_CLT %>%\n",
    "            get_confidence_interval(type = \"percentile\", level = 0.95)\n",
    "\n",
    "CLT_table <- data.frame(mean_CLT, var_CLT) %>%\n",
    "    merge(ci_CLT)\n",
    "CLT_table\n",
    "bootstrap_Table"
   ]
  },
  {
   "cell_type": "markdown",
   "id": "0d57ce19-0790-4041-9c3d-17484597c04c",
   "metadata": {},
   "source": [
    "From the tables above, it seems that the central limit theorem and bootstrap methods seem to yield very similar results. This is good but still we would trust the bootstrap method more as it makes less assumptions, especially about the independence of data points since it is possible that crimes have an impact on future crimes."
   ]
  },
  {
   "cell_type": "code",
   "execution_count": null,
   "id": "18371f2e-67e2-47b8-9380-749ed705f781",
   "metadata": {},
   "outputs": [],
   "source": [
    "# lab mean on the sampling distribution\n",
    "# shade 95% confidence interval on the sampling distribution\n",
    "\n",
    "sample_quantile_plot <- \n",
    "    diff_sampling_dist_CLT %>% \n",
    "      ggplot(aes(x = diff)) +\n",
    "      geom_histogram(bins = 25, color = 'white') +\n",
    "      geom_vline(xintercept = mean_CLT, colour = \"red\", size = 1) +\n",
    "      annotate(\"rect\", \n",
    "              xmin = ci_CLT$lower_ci,\n",
    "              xmax = ci_CLT$upper_ci,\n",
    "              ymin = 0,\n",
    "              ymax = Inf,\n",
    "              fill = \"deepskyblue\",\n",
    "              alpha = 0.3) +\n",
    "      ggtitle(\"Sampling Distribution of Difference of Proportion of \\n Financially Motivated Crimes Before and After Covid\") +\n",
    "      xlab(\"Difference of Proportions\") +\n",
    "      theme(text = element_text(size = 14))\n",
    "\n",
    "sample_quantile_plot"
   ]
  },
  {
   "cell_type": "markdown",
   "id": "f11e36e6-94c3-45da-a00a-6bacfca7d931",
   "metadata": {},
   "source": [
    "From this point, it appears that the proportions are all consistently above 0, and the 95% confidence interval does not contain any values below 0. This suggests that it is very likely that the proportion of crimes that are financially motivated has decreased since the pandemic has started, but we would still like to perform a hypothesis test to confirm our suspicions."
   ]
  },
  {
   "cell_type": "code",
   "execution_count": null,
   "id": "38329d73-19fc-4ff0-a014-3937305b840b",
   "metadata": {},
   "outputs": [],
   "source": [
    "## do hypothesis testing for the difference in proportions based on the central limit theorem, see worksheet 8 question question 3.4 for examples\n",
    "set.seed(2190)\n",
    "sample_size <- 2000\n",
    "\n",
    "samples_hypothesis <- crime_data_processed %>%\n",
    "    rep_sample_n(size = 2000, reps = 1, replace = FALSE) %>%\n",
    "    mutate(Pandemic = ifelse(YEAR < 2020, \"Before\", \"After\")) %>%\n",
    "    group_by(replicate,Pandemic) %>%\n",
    "    summarize(n = n(),\n",
    "              prop = sum(TYPE %in% financial_crimes)/n())\n",
    "\n",
    "samples_hypothesis"
   ]
  },
  {
   "cell_type": "code",
   "execution_count": null,
   "id": "a02a25cf-cff5-420c-a071-dd0dbb240de5",
   "metadata": {},
   "outputs": [],
   "source": [
    "# number of data points and proportions\n",
    "n1 <- samples_hypothesis$n[1]\n",
    "n2 <-samples_hypothesis$n[2]\n",
    "p1 <- samples_hypothesis$prop[1]\n",
    "p2 <- samples_hypothesis$prop[2]\n",
    "p_hat <- (n1*p1 + n2*p2)/(n1 + n2)\n",
    "\n",
    "test_statistic_theoretical <- (p2 - p1)/sqrt(p_hat * (1 - p_hat) * (1/n1 + 1/n2))\n",
    "\n",
    "p_score_theoretical <- pnorm(test_statistic_theoretical, lower.tail = FALSE)\n",
    "p_score_theoretical"
   ]
  },
  {
   "cell_type": "markdown",
   "id": "3cd96f2f-d7b2-475d-8a39-7cc869b11c52",
   "metadata": {
    "tags": []
   },
   "source": [
    "## Discussion"
   ]
  },
  {
   "cell_type": "markdown",
   "id": "6fc37f6b-1aa4-42e8-8f00-78eca7d26754",
   "metadata": {},
   "source": [
    "# Sean's next step goes here"
   ]
  },
  {
   "cell_type": "markdown",
   "id": "e5be7ed6",
   "metadata": {
    "tags": []
   },
   "source": [
    "# References:\n",
    "\n",
    "Ferguson, E. (2015). Crime and punishment vocabulary with pronunciation. IELTS Liz. Retrieved October 31, 2022, from https://ieltsliz.com/crime-and-punishment-vocabulary/ \n",
    "\n",
    "Munywoki, G. (2020). Economic effects of novel coronavirus (COVID – 19) on the global economy. SSRN Electronic Journal. https://doi.org/10.2139/ssrn.3719130 \n",
    "\n",
    "n.a. (n.d.). Crime Data Download. VPD open data. Retrieved October 31, 2022, from https://geodash.vpd.ca/opendata/ \n",
    "\n",
    "Nivette, A.E., Zahnow, R., Aguilar, R. et al. A global analysis of the impact of COVID-19 stay-at-home restrictions on crime. Nat Hum Behav 5, 868–877 (2021). https://doi.org/10.1038/s41562-021-01139-z"
   ]
  },
  {
   "cell_type": "code",
   "execution_count": null,
   "id": "b70eaa7d-b369-44a3-9d30-2ada4f6a437d",
   "metadata": {},
   "outputs": [],
   "source": []
  },
  {
   "cell_type": "code",
   "execution_count": null,
   "id": "8fbf9722-e6fd-4e8c-b4da-b0b8290a9ddb",
   "metadata": {},
   "outputs": [],
   "source": []
  },
  {
   "cell_type": "code",
   "execution_count": null,
   "id": "9ae9b9d5-6910-415e-8208-a312ef9052b3",
   "metadata": {},
   "outputs": [],
   "source": []
  }
 ],
 "metadata": {
  "kernelspec": {
   "display_name": "R",
   "language": "R",
   "name": "ir"
  },
  "language_info": {
   "codemirror_mode": "r",
   "file_extension": ".r",
   "mimetype": "text/x-r-source",
   "name": "R",
   "pygments_lexer": "r",
   "version": "4.1.3"
  }
 },
 "nbformat": 4,
 "nbformat_minor": 5
}
