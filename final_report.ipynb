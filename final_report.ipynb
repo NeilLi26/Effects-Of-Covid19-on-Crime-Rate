{
 "cells": [
  {
   "cell_type": "markdown",
   "id": "d00bd42c",
   "metadata": {},
   "source": [
    "# The effects of COVID-19 on crime rates in Vancouver\n",
    "\n",
    "group project final report:\n",
    "\n",
    "Sean Lee, Neil Li, Tracy Wang, Wendi Zhong"
   ]
  },
  {
   "cell_type": "markdown",
   "id": "dd69795b",
   "metadata": {},
   "source": [
    "## Introduction\n",
    "\n",
    "Before the pandemic, our teammate Neil has experienced no crimes more major than perhaps public drunkeness, but once the pandemic started, he has been subjected to two different attempts of grand theft auto and one shooting. This can't help but make us wonder: is this simply a streak of bad luck or is this the result of the pandemic?\n",
    "\n",
    "But it wasn't so simple, as research (Nivette et. al., 2021) has shown that crime rate decreases due to lockdowns forcing people to stay in their homes, there are also arguments to be had about how the economic downturn (Munywoki, 2020) could lead more people into commiting crimes for financial reasons.\n",
    "\n",
    "The result of this could have fascinating ramifications, and it could inform governments on the potential social benefits of providing stimulus cheques.\n",
    "\n",
    "### Research Question:\n",
    "\n",
    "<b>Has Covid 19 increased the proportion of financially motivated crimes in Vancouver?<b>\n",
    "    \n",
    "### Hypothesis:\n",
    "\n",
    "$H_0: p_1 - p_2 \\geq 0$ vs $H_1: p_1 - p_2 \\lt 0$\n",
    "    \n",
    "$p_1$: proportion of financially motivated crimes before the pandemic\n",
    "    \n",
    "$p_2$: proportion of financially motivated crimes after the pandemic\n",
    "    \n",
    "The null hypothesis states that the proportion of financially motivated crimes decreased or stayed the same since the pandemic started, while the alternative hypothesis states that the crime rate increased since the pandemic started.\n",
    "    \n",
    "We will compare the results of our hypothesis test to a significance level of $\\alpha$ = 0.05, as this is the most common significance level."
   ]
  },
  {
   "cell_type": "code",
   "execution_count": null,
   "id": "5667a216",
   "metadata": {},
   "outputs": [],
   "source": [
    "# Loading libraries\n",
    "library(tidyverse)\n",
    "library(datateachr)\n",
    "library(repr)\n",
    "library(digest)\n",
    "library(infer)\n",
    "library(grid)"
   ]
  },
  {
   "cell_type": "markdown",
   "id": "539345c5",
   "metadata": {},
   "source": [
    "## Dataset Info:\n",
    "\n",
    "The dataset is downloaded from \\\"[Vancouver Crime Data](https://geodash.vpd.ca/opendata/)\\\", an open data dataset provided by the Vancouver Police Department. Which we selected to list all the the crimes recorded in every neighbourhood in Vancouver since 2003. The dataset (Vancouver Crime Data) of specific crimes is directly downloaded from the Vancouver Police Department. We are confident that the dataset is trustworthy and representative with no bias in the data; even if there could still be unreported crimes."
   ]
  },
  {
   "cell_type": "code",
   "execution_count": null,
   "id": "45a67d51",
   "metadata": {},
   "outputs": [],
   "source": [
    "# reading data\n",
    "crimes_url <- \"https://raw.githubusercontent.com/NeilLi26/STAT201-project/main/crimedata_csv_AllNeighbourhoods_AllYears.csv\"\n",
    "crime_data <- read.csv(crimes_url)\n",
    "head(crime_data)"
   ]
  },
  {
   "cell_type": "markdown",
   "id": "b4a6b26d",
   "metadata": {},
   "source": [
    "Because we want to have the crime data be more representative of the difference between the years leading up to the pandemic to the years during and after the pandemic, we will filter the data to only include years from 2017 onwards, and before November since 2022 has not had a November yet. We will also only need the columns containing the type of the crime, year the crime was committed."
   ]
  },
  {
   "cell_type": "code",

   "execution_count": null,
   "id": "4827088f",
   "metadata": {},
   "outputs": [],
   "source": [
    "# selecting data after 2017 and before November\n",
    "crime_data_processed <- crime_data %>%\n",
    "    filter(YEAR >= 2017, MONTH <= 10) %>%\n",
    "    select(TYPE, YEAR)\n",
    "head(crime_data_processed)"
   ]
  },
  {
   "cell_type": "markdown",
   "id": "b473efa0-9845-42f5-b110-b5974e361f89",
   "metadata": {},
   "source": [
    "We want to know what kinds of crimes are present, in order for us to determine what kinds of crimes present could be considered as financially motivated."
   ]
  },
  {
   "cell_type": "code",
   "execution_count": null,
   "id": "d50ed280-ca37-4e43-b454-f2621f7ca0d6",
   "metadata": {
    "tags": []
   },
   "outputs": [],
   "source": [
    "crime_types <- crime_data_processed %>%\n",
    "    select(TYPE) %>%\n",
    "    group_by(TYPE) %>%\n",

    "    summarise(n = n()) %>%\n",
    "    select(TYPE)\n",
    "crime_types"
   ]
  },
  {
   "cell_type": "markdown",
   "id": "a114a6bf-6936-4d8b-b709-9ae6bc8a94db",
   "metadata": {},
   "source": [
    "We deem the \"Breaking and Entering\" and \"Theft\" type crimes to be financially motivated. This was decided from the tibble above, and some further research by ourselves (Ferguson E., 2015).\n",
    "\n",
    "The financial crimes are stored in the tibble below:"
   ]
  },
  {
   "cell_type": "code",
   "execution_count": null,
   "id": "5078ac85-38bb-4dc1-8c81-ab8275e439d6",
   "metadata": {},
   "outputs": [],
   "source": [
    "financial_crimes <- c(\"Break and Enter Commercial\", \"Break and Enter Residential/Other\", \"Other Theft\", \"Theft from Vehicle\",\n",
    "                     \"Theft of Bicycle\", \"Theft of Vehicle\")"
   ]
  },
  {
   "cell_type": "markdown",
   "id": "a2120553-2ff5-4285-8cb1-130d5506afb4",
   "metadata": {},
   "source": [
    "## Methods and Results"
   ]
  },
  {
   "cell_type": "markdown",
   "id": "c843afdd-e569-43a7-a6e6-42e28a8a42b3",
   "metadata": {},
   "source": [
    "### Bootstrapping"
   ]
  },
  {
   "cell_type": "markdown",
   "id": "b5ab88cb",
   "metadata": {},
   "source": [
    "We first decided to use a bootstrap method to get a better understanding of what the difference of proportions look like, so that we could have good idea of what to expect when we move to hypothesis testing.\n",
    "\n",
    "First of all, we would like to visualize the distribution of the difference of proportions, by taking a series of bootstrap samples and calculating the proportion of crimes that are financially motivated before and after the pandemic, and calculating the difference between these proportions.\n",
    "\n",
    "The original sample size is chosen to be 2000 as that is a large enough sample size to decrease the likelihood of drawing an unrepresentative data set, but also one that is not too large as we found that to be too computationally intensive."
   ]
  },
  {
   "cell_type": "code",
   "execution_count": null,
   "id": "9ccac60f",
   "metadata": {},
   "outputs": [],
   "source": [
    "# take a single sample with size 2000 from population\n",
    "set.seed(2190)\n",
    "sample_size <- 2000\n",
    "\n",
    "crime_sample <- crime_data_processed %>%\n",
    "    rep_sample_n(size = sample_size, replace = FALSE) %>%\n",
    "    mutate(Pandemic = ifelse(YEAR < 2020, \"Before\", \"After\"))\n",
    "\n",
    "# create 1000 bootstrap samples with size 2000 of the difference in crimes commited before the pandemic \n",
    "# (YEAR < 2020) \n",
    "set.seed(2190)\n",
    "bootstrap_sample <- crime_sample %>%\n",
    "    rep_sample_n(size = sample_size, reps = 1000, replace = TRUE)%>%\n",
    "    group_by(replicate,Pandemic)%>%\n",
    "    summarize(prop = sum(TYPE %in% financial_crimes)/n())%>%\n",
    "    pivot_wider(names_from = Pandemic, values_from = prop) %>%\n",
    "    mutate(diff = Before - After) \n",
    "    \n",
    "#Visualize the bootstrap distribution\n",
    "bootstrap_sampling_distribution <- bootstrap_sample%>%\n",
    "    ggplot(aes(x = diff)) +\n",
    "    geom_histogram(binwidth = 0.01) +\n",
    "    xlab(\"Difference in Proportion of Financially Motivated Crimes Commited\") +\n",
    "    ggtitle(\"Figure 1: Bootstrap Sampling Distribution\") \n",
    "    \n",
    "bootstrap_sampling_distribution"
   ]
  },
  {
   "cell_type": "markdown",
   "id": "b027ae2d-e0e5-4116-95e6-d1f7bae215d5",
   "metadata": {},
   "source": [
    "We then calculate all the important statistics, such as the mean, variance, and the 95% confidence interval. This was done so that we could better see what proportion of the differences may lie above or below 0. In our case after observing the histogram above, we would be more interested in seeing what proportion is actaully below 0."
   ]
  },
  {
   "cell_type": "code",
   "execution_count": null,
   "id": "ebb3aad3-87d0-4600-8a4d-b3cbb97ce77c",
   "metadata": {},
   "outputs": [],
   "source": [
    "# calculate the mean and var of difference in crimes commited\n",
    "sample_mean_proportion <- mean(bootstrap_sample$diff)\n",
    "sample_proportion_var <- var(bootstrap_sample$diff)\n",
    "\n",
    "#obtain 95% confidence interval \n",
    "ci <- bootstrap_sample %>%\n",
    "    get_ci(level = 0.95, type = \"percentile\")\n",
    "bootstrap_Table <- data.frame(sample_mean_proportion, sample_proportion_var) %>%\n",
    "    merge(ci)\n",
    "bootstrap_Table"
   ]
  },
  {
   "cell_type": "markdown",
   "id": "0b90e999-a860-4bd5-9185-7d9543ab0341",
   "metadata": {},
   "source": [
    "These statistics could be more meaningfully portrayed on a plot, so we added a blue semi-transparent rectangle to represent the confidence interval, with a red line to represent the mean."
   ]
  },
  {
   "cell_type": "code",
   "execution_count": null,
   "id": "1c8cbbc1-1448-4002-b504-4074126191b4",
   "metadata": {},
   "outputs": [],
   "source": [
    "#Visualize the bootstrap distribution with 95% confidence interval\n",
    "ci_plot <- bootstrap_sample%>%\n",
    "    ggplot(aes(x = diff)) +\n",
    "    geom_histogram (binwidth = 0.01, colour = \"white\", fill = \"grey\") +\n",
    "    annotate(\"rect\", xmin = ci$lower_ci, xmax = ci$upper_ci, ymin = 0, ymax = Inf,\n",
    "             fill = \"deepskyblue\",\n",
    "             alpha = 0.3) +\n",
    "    xlab(\"Difference in Proportion of Financially Motivated Crimes\")+\n",
    "    ggtitle(\"Figure 2: Bootstrap Distribution with 95% Confidence Interval and Mean\") +\n",
    "    geom_vline(aes(xintercept= sample_mean_proportion), colour = \"red\")\n",
    "ci_plot"
   ]
  },
  {
   "cell_type": "markdown",
   "id": "73bb3056-3219-40f7-b38c-8bc09342e868",
   "metadata": {},
   "source": [
    "We then create a null model by recentering the distribution above to be centered at our value of interest: 0, and calculate for the mean difference of proportions of all the bootstrap values. We can see how likely it is for the null model to be true by finding the proportion of points in our null model that has values lower than the observed test statistic"
   ]
  },
  {
   "cell_type": "code",
   "execution_count": null,
   "id": "a9fa894b-fb7a-459f-b7f6-525f25e7aaaa",
   "metadata": {},
   "outputs": [],
   "source": [
    "## make hypothesis test for difference proportions based \n",
    "# on bootstrapping methods, see Tutorial 6 question 3 for examples\n",
    "\n",
    "# calculate observed test statistic\n",
    "obs_test_stat <- mean(bootstrap_sample$diff)\n",
    "print(paste(\"test statistic: \", obs_test_stat))\n",
    "\n",
    "# construct null model\n",
    "null_model <- \n",
    "    bootstrap_sample %>% \n",
    "    mutate(stat = diff - (obs_test_stat - 0 ) )\n",
    "\n",
    "# obtain p-value\n",
    "p_value <- mean(null_model$stat < obs_test_stat)\n",
    "\n",
    "print(paste(\"p value: \", p_value))"
   ]
  },
  {
   "cell_type": "markdown",
   "id": "a4fd1ee2-988a-45f7-a1f1-057946ff6deb",
   "metadata": {},
   "source": [
    "This incredibly high p value would suggest of 1 that all of the data points in the null model are below the observed test statistic, meaning that it is almost guaranteed for the null hypothesis to be true according to the bootstrap method. \n",
    "\n",
    "We decided to visualise this on the plot below too, by placing a red line at our test statistic. And it is evident that all data points in the null distribution are to the left of this line."
   ]
  },
  {
   "cell_type": "code",
   "execution_count": null,
   "id": "9a076467-41a1-4694-85fc-a00c1b97f501",
   "metadata": {
    "tags": []
   },
   "outputs": [],
   "source": [
    "# visualize the null model\n",
    "null_model_plot <-\n",
    "    null_model %>%\n",
    "    ggplot(aes(x = stat)) +\n",
    "    geom_histogram(binwidth = 0.01) +\n",
    "    geom_vline(xintercept = obs_test_stat, color = \"red\", alpha=.3, lwd=2)  +\n",
    "    xlab(\"Difference in Proportion of Financially Motivated Crimes\") +\n",
    "    ggtitle(\"Figure 3: Null Distribution\") \n",
    "\n",
    "null_model_plot"
   ]
  },
  {
   "cell_type": "markdown",
   "id": "2f00bac6-76e9-4556-b7cb-f4b450ed525b",
   "metadata": {},
   "source": [
    "We would still like to see what results the central limit theroem and theory based approaches might yield."
   ]
  },
  {
   "cell_type": "markdown",
   "id": "ebd1a638-23ae-4fc9-a777-4c376210e044",
   "metadata": {},
   "source": [
    "### CLT Based Approach"
   ]
  },
  {
   "cell_type": "markdown",
   "id": "28e6b404",
   "metadata": {},
   "source": [
    "For comparison's sake, we were also interested in how different the results we got from theoretical calculations would differ compared to the results we got using bootstrapping. So using the same seed, we took some samples first to get a proper confidence interval again, to see how much of the distribution is below 0.\n",
    "\n",
    "Because this is a large dataset, we have the luxury of creating many large samples, and with those large samples we could apply the central limit theorem to get the same crucial data that we got before. First we took 1000 samples of size 2000, as we want many large samples for the central limit theorem to produce the most normal distribution. Then we plotted this on a graph, as seen below."
   ]
  },
  {
   "cell_type": "code",
   "execution_count": null,
   "id": "c903b9d0-58e5-48d9-b620-58f7f0cdaa25",
   "metadata": {},
   "outputs": [],
   "source": [
    "# take 1000 single sample with size 2000 from population\n",
    "set.seed(2190)\n",
    "\n",
    "samples_CLT <- crime_data_processed %>%\n",
    "    rep_sample_n(size = 2000, reps = 1000, replace = FALSE) %>%\n",
    "    mutate(Pandemic = ifelse(YEAR < 2020, \"Before\", \"After\"))\n",
    "\n",
    "# calculate difference of crimes before and after 2020\n",
    "diff_sampling_dist_CLT <- \n",
    "samples_CLT %>%\n",
    "    group_by(replicate , Pandemic)%>%\n",
    "    summarize(prop = sum(TYPE %in% financial_crimes)/n()) %>%\n",
    "    pivot_wider(names_from = Pandemic, values_from = prop) %>%\n",
    "    mutate(diff = Before - After) \n",
    "\n",
    "# Visualize size 2000 sampling distribution\n",
    "diff_sampling_dist_plot_CLT <- \n",
    "diff_sampling_dist_CLT %>%\n",
    "   ggplot(aes(x = diff)) +\n",
    "   geom_histogram(bins = 20, color = 'white') +\n",
    "   ggtitle(\"Figure 4: Sampling Distribution of Difference of Proportion of \\n Financially Motivated Crimes Before and After Covid\") +\n",
    "   xlab(\"Difference in Proportion of Financially Motivated Crimes\") +\n",
    "   theme(text = element_text(size = 14))\n",
    "diff_sampling_dist_plot_CLT"
   ]
  },
  {
   "cell_type": "markdown",
   "id": "a002cd9f-4628-4eaf-9671-899258e21c10",
   "metadata": {},
   "source": [
    "For comparison's sake, we were also interested in how different the results we got from theoretical calculations would differ compared to the results we got using bootstrapping. So using the same seed, we took some samples first to get a proper confidence interval again, to see how much of the distribution is below 0."
   ]
  },
  {
   "cell_type": "code",
   "execution_count": null,
   "id": "c6653587-f34b-431b-ba83-74300089fd13",
   "metadata": {},
   "outputs": [],
   "source": [
    "# Get mean and var of sampling distribution\n",
    "mean_CLT <- mean(diff_sampling_dist_CLT$diff)\n",
    "var_CLT <- var(diff_sampling_dist_CLT$diff)\n",
    "\n",
    "# Get 95% confidence interval\n",
    "ci_CLT <- diff_sampling_dist_CLT %>%\n",
    "            get_confidence_interval(type = \"percentile\", level = 0.95)\n",
    "\n",
    "CLT_table <- data.frame(mean_CLT, var_CLT) %>%\n",
    "    merge(ci_CLT)\n",
    "CLT_table\n",
    "bootstrap_Table"
   ]
  },
  {
   "cell_type": "markdown",
   "id": "0d57ce19-0790-4041-9c3d-17484597c04c",
   "metadata": {},
   "source": [
    "From the tables above, it seems that the central limit theorem and bootstrap methods seem to yield very similar results. This is good but still we would trust the bootstrap method more as it makes less assumptions, especially about the independence of data points since it is possible that crimes have an impact on future crimes."
   ]
  },
  {
   "cell_type": "code",
   "execution_count": null,
   "id": "18371f2e-67e2-47b8-9380-749ed705f781",
   "metadata": {},
   "outputs": [],
   "source": [
    "# lab mean on the sampling distribution\n",
    "# shade 95% confidence interval on the sampling distribution\n",
    "\n",
    "sample_quantile_plot <- \n",
    "    diff_sampling_dist_CLT %>% \n",
    "      ggplot(aes(x = diff)) +\n",
    "      geom_histogram(bins = 25, color = 'white') +\n",
    "      geom_vline(xintercept = mean_CLT, colour = \"red\", size = 1) +\n",
    "      annotate(\"rect\", \n",
    "              xmin = ci_CLT$lower_ci,\n",
    "              xmax = ci_CLT$upper_ci,\n",
    "              ymin = 0,\n",
    "              ymax = Inf,\n",
    "              fill = \"deepskyblue\",\n",
    "              alpha = 0.3) +\n",
    "      ggtitle(\"Figure 5: Sampling Distribution of Difference of Proportion of \\n Financially Motivated Crimes Before and After Covid\") +\n",
    "      xlab(\"Difference in Proportion of Financially Motivated Crimes\") +\n",
    "      theme(text = element_text(size = 14))\n",
    "\n",
    "sample_quantile_plot"
   ]
  },
  {
   "cell_type": "markdown",
   "id": "f11e36e6-94c3-45da-a00a-6bacfca7d931",
   "metadata": {},
   "source": [
    "From this point, it appears that the proportions are all consistently above 0, and the 95% confidence interval does not contain any values below 0. This suggests that it is very likely that the proportion of crimes that are financially motivated has decreased since the pandemic has started, but we would still like to perform a hypothesis test to confirm our suspicions. We first want to take a single large sample of size 2000, as that is a large amount of data points that is still less than 10% of our total population size. Then, we find the necessary data that we need for the hypothesis test, which is the proportion of financially motivated crimes and number of financially motivated crimes before and after the pandemic."
   ]
  },
  {
   "cell_type": "code",
   "execution_count": null,
   "id": "38329d73-19fc-4ff0-a014-3937305b840b",
   "metadata": {},
   "outputs": [],
   "source": [
    "## do hypothesis testing for the difference in proportions based on the central limit theorem, see worksheet 8 question question 3.4 for examples\n",
    "set.seed(2190)\n",
    "sample_size <- 2000\n",
    "\n",
    "samples_hypothesis <- crime_data_processed %>%\n",
    "    rep_sample_n(size = 2000, reps = 1, replace = FALSE) %>%\n",
    "    mutate(Pandemic = ifelse(YEAR < 2020, \"Before\", \"After\")) %>%\n",
    "    group_by(replicate,Pandemic) %>%\n",
    "    summarize(n = n(),\n",
    "              prop = sum(TYPE %in% financial_crimes)/n())\n",
    "\n",
    "samples_hypothesis"
   ]
  },
  {
   "cell_type": "markdown",
   "id": "aa2b3af9-975d-4812-8484-6abd5b16d7b8",
   "metadata": {},
   "source": [
    "Using this information, we could then use the formulas learnt in our stat 201 class to calculate for the test statistic. We can use the pnorm function here as due to the large data size, we can assume normality and not bother with t-distributions."
   ]
  },
  {
   "cell_type": "code",
   "execution_count": null,
   "id": "a02a25cf-cff5-420c-a071-dd0dbb240de5",
   "metadata": {},
   "outputs": [],
   "source": [
    "# number of data points and proportions\n",
    "n1 <- samples_hypothesis$n[1]\n",
    "n2 <-samples_hypothesis$n[2]\n",
    "p1 <- samples_hypothesis$prop[1]\n",
    "p2 <- samples_hypothesis$prop[2]\n",
    "p_hat <- (n1*p1 + n2*p2)/(n1 + n2)\n",
    "\n",
    "test_statistic_theoretical <- (p2 - p1)/sqrt(p_hat * (1 - p_hat) * (1/n1 + 1/n2))\n",
    "\n",
    "p_score_theoretical <- pnorm(test_statistic_theoretical, lower.tail = TRUE)\n",
    "p_score_theoretical"
   ]
  },
  {
   "cell_type": "markdown",
   "id": "adaed0bd-82f9-4d4b-8f69-07835f794fae",
   "metadata": {},
   "source": [
    "This is once again a very high p-value, and it lines up very well with what we discovered in our bootstrap method."
   ]
  },
  {
   "cell_type": "markdown",
   "id": "3cd96f2f-d7b2-475d-8a39-7cc869b11c52",
   "metadata": {
    "tags": []
   },
   "source": [
    "## Discussion"
   ]
  },
  {
   "cell_type": "markdown",
   "id": "a19786f5-bce1-48ba-9085-712fb70480b5",
   "metadata": {},
   "source": [
    "Our hypothesis (research question) was: <b>Has Covid 19 affected the proportion of financially motivated crimes in Vancouver?<b>\n",
    "    \n",
    "The results were quite unexpected for us.\n",
    "    \n",
    "First, the visualization of bootstrapped sample has a normally distributed shape. Unless the bootstrapped plot is not normal, we could trust the bootstrap results. Since the distribution is easier to identify with more samples, our bootstrapped data has 1000 samples of replacements. The 95% CI is shaded blue in the plot, with the sample mean indicated as vertical red line. Our sample mean value of 0.06899849 represents the mean difference in proportion of crimes of Before and After COVID. The positive value sample mean indicates that there is an increase in crimes comparing \"After\" and \"Before\" crime rates. Negative value indicates the opposing result. However, as we could interpret from the distribution, there is only positive \"diff\" in crime rates from \"After\" and \"Before\". \n",
    "    \n",
    "    Before - After = +ve\n",
    "    \n",
    "Moreover, we have 95% confidence interval with lower CI of 0.0304651 and upper CI of 0.1075528. This implies 95% of our difference in proportion of \"Before\" and \"After\" lies between the lower and upper CI. Our data is 95% confident that there is a difference in proportion, hence we are 95% confident the crime rates decreased comparing \"Before\" and \"After\" COVID.\n",
    "\n",
    "We have calculated the p-value of 0.000439704868509851 from from calculating the proportions. The p-value tells us how likely our data could occur under our null hypothesis. Normally, a p-value of less than 0.05 is considered statistically significant, hence rejecting the null hypothesis. Since we have a much lower p-value than 0.05, we could have this as a statistical evidence to reject the null hypothesis.\n",
    "    \n",
    "Therefore, COVID 19 has not affected the proportion of financially motivated crimes in Vancouver to increase.\n",
    "    \n",
    "We had the research question from our personal experience of experiencing more frequent crimes during the pandemic. However, it turns out that statistically there is no increase in crime rates after the pandemic. The results were quite expected as we were expecting to see increased crimes after pandemic. \n",
    "\n",
    "    \n",
    "    \n",
    "    \n",
    "Possible limitations: \n",
    "- Even though we classifed ourselves \"Breaking and Entering\" and \"Theft\" to be financially motivated crimes, the dataset does not tell us whether they are truly motivated by financial extortion.\n",
    "- We are missing data from 2022 November to December as \"After\" COVID when we started this research. However, it could still be doubtful whether 2022 November and December data would have significant effect on our results. \n",
    "- The boundary between \"Before\" and \"After\" the pandemic could be vague. There is no specific date or time to diverge the period of the pandemic. When is the exact start and end for COVID? There were times when COVID was definitely more severe, and when the bad things were alleviated. But it is not easy to clearly differentiate the years as \"Before\" and \"After\" COVID.\n",
    "\n",
    "    \n",
    "Further questions:\n",
    "- Based on our possible limitations, we could focus more on crimes that involved financial activities to distinguish the real motive for the crimes. Perhaps, phishing scams, second-hand trading scams, or even financial fraud targetted to financially better off.\n",
    "- There could be a difference of crime rates where ecomonic downturn was harsher than Vancouver or not. Maybe the economic status could have been a more significant factor in handling the pandemic."
   ]
  },
  {
   "cell_type": "markdown",
   "id": "e5be7ed6",
   "metadata": {
    "tags": []
   },
   "source": [
    "# References:\n",
    "\n",
    "Ferguson, E. (2015). Crime and punishment vocabulary with pronunciation. IELTS Liz. Retrieved October 31, 2022, from https://ieltsliz.com/crime-and-punishment-vocabulary/ \n",
    "\n",
    "Munywoki, G. (2020). Economic effects of novel coronavirus (COVID – 19) on the global economy. SSRN Electronic Journal. https://doi.org/10.2139/ssrn.3719130 \n",
    "\n",
    "n.a. (n.d.). Crime Data Download. VPD open data. Retrieved October 31, 2022, from https://geodash.vpd.ca/opendata/ \n",
    "\n",
    "Nivette, A.E., Zahnow, R., Aguilar, R. et al. A global analysis of the impact of COVID-19 stay-at-home restrictions on crime. Nat Hum Behav 5, 868–877 (2021). https://doi.org/10.1038/s41562-021-01139-z"
   ]
  }
 ],
 "metadata": {
  "kernelspec": {
   "display_name": "R",
   "language": "R",
   "name": "ir"
  },
  "language_info": {
   "codemirror_mode": "r",
   "file_extension": ".r",
   "mimetype": "text/x-r-source",
   "name": "R",
   "pygments_lexer": "r",
   "version": "4.1.3"
  }
 },
 "nbformat": 4,
 "nbformat_minor": 5
}
