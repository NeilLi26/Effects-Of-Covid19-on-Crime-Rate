{
 "cells": [
  {
   "cell_type": "markdown",
   "id": "d00bd42c",
   "metadata": {},
   "source": [
    "# The Effects of COVID-19 on Crime Rates in Vancouver\n",
    "\n",
    "### Group Project Final Report\n",
    "\n",
    "Sean Lee, Neil Li, Tracy Wang, Wendi Zhong"
   ]
  },
  {
   "cell_type": "markdown",
   "id": "dd69795b",
   "metadata": {},
   "source": [
    "## Introduction\n",
    "\n",
    "Before the pandemic, our teammate Neil has experienced no crimes more major than perhaps public drunkeness, but once the pandemic started, he has been subjected to two different attempts of grand theft auto and one shooting. This can't help but make us wonder: is this simply a streak of bad luck or is this the result of the pandemic?\n",
    "\n",
    "But it wasn't so simple, as research (Nivette et. al., 2021) has shown that crime rate decreases due to lockdowns forcing people to stay in their homes, there are also arguments to be had about how the economic downturn (Munywoki, 2020) could lead more people into commiting crimes for financial reasons.\n",
    "\n",
    "The result of this could have fascinating ramifications, and it could inform governments on the potential social benefits of providing stimulus cheques.\n",
    "\n",
    "### Research Question:\n",
    "\n",
    "<b>Has Covid 19 increased the proportion of financially motivated crimes in Vancouver?<b>\n",
    "    \n",
    "### Hypothesis:\n",
    "\n",
    "$H_0: p_1 - p_2 \\geq 0$ vs $H_1: p_1 - p_2 \\lt 0$\n",
    "    \n",
    "$p_1$: proportion of financially motivated crimes before the pandemic\n",
    "    \n",
    "$p_2$: proportion of financially motivated crimes after the pandemic\n",
    "    \n",
    "The null hypothesis states that the proportion of financially motivated crimes decreased or stayed the same since the pandemic started, while the alternative hypothesis states that the crime rate increased since the pandemic started.\n",
    "    \n",
    "We will compare the results of our hypothesis test to a significance level of $\\alpha$ = 0.05, as this is the most common significance level."
   ]
  },
  {
   "cell_type": "code",
   "execution_count": 1,
   "id": "5667a216",
   "metadata": {},
   "outputs": [
    {
     "name": "stderr",
     "output_type": "stream",
     "text": [
      "── \u001b[1mAttaching core tidyverse packages\u001b[22m ──────────────────────── tidyverse 2.0.0 ──\n",
      "\u001b[32m✔\u001b[39m \u001b[34mdplyr    \u001b[39m 1.1.4     \u001b[32m✔\u001b[39m \u001b[34mreadr    \u001b[39m 2.1.5\n",
      "\u001b[32m✔\u001b[39m \u001b[34mforcats  \u001b[39m 1.0.0     \u001b[32m✔\u001b[39m \u001b[34mstringr  \u001b[39m 1.5.1\n",
      "\u001b[32m✔\u001b[39m \u001b[34mggplot2  \u001b[39m 3.5.1     \u001b[32m✔\u001b[39m \u001b[34mtibble   \u001b[39m 3.2.1\n",
      "\u001b[32m✔\u001b[39m \u001b[34mlubridate\u001b[39m 1.9.3     \u001b[32m✔\u001b[39m \u001b[34mtidyr    \u001b[39m 1.3.1\n",
      "\u001b[32m✔\u001b[39m \u001b[34mpurrr    \u001b[39m 1.0.2     \n",
      "── \u001b[1mConflicts\u001b[22m ────────────────────────────────────────── tidyverse_conflicts() ──\n",
      "\u001b[31m✖\u001b[39m \u001b[34mdplyr\u001b[39m::\u001b[32mfilter()\u001b[39m masks \u001b[34mstats\u001b[39m::filter()\n",
      "\u001b[31m✖\u001b[39m \u001b[34mdplyr\u001b[39m::\u001b[32mlag()\u001b[39m    masks \u001b[34mstats\u001b[39m::lag()\n",
      "\u001b[36mℹ\u001b[39m Use the conflicted package (\u001b[3m\u001b[34m<http://conflicted.r-lib.org/>\u001b[39m\u001b[23m) to force all conflicts to become errors\n"
     ]
    }
   ],
   "source": [
    "# Loading libraries\n",
    "library(tidyverse)\n",
    "library(datateachr)\n",
    "library(repr)\n",
    "library(digest)\n",
    "library(infer)\n",
    "library(grid)"
   ]
  },
  {
   "cell_type": "markdown",
   "id": "539345c5",
   "metadata": {},
   "source": [
    "## Dataset Info:\n",
    "\n",
    "The dataset is downloaded from \\\"[Vancouver Crime Data](https://geodash.vpd.ca/opendata/)\\\", an open data dataset provided by the Vancouver Police Department. Which we selected to list all the the crimes recorded in every neighbourhood in Vancouver since 2003. The dataset (Vancouver Crime Data) of specific crimes is directly downloaded from the Vancouver Police Department. We are confident that the dataset is trustworthy and representative with no bias in the data; even if there could still be unreported crimes."
   ]
  },
  {
   "cell_type": "code",
   "execution_count": 2,
   "id": "45a67d51",
   "metadata": {},
   "outputs": [
    {
     "data": {
      "text/html": [
       "<table class=\"dataframe\">\n",
       "<caption>A data.frame: 6 × 10</caption>\n",
       "<thead>\n",
       "\t<tr><th></th><th scope=col>TYPE</th><th scope=col>YEAR</th><th scope=col>MONTH</th><th scope=col>DAY</th><th scope=col>HOUR</th><th scope=col>MINUTE</th><th scope=col>HUNDRED_BLOCK</th><th scope=col>NEIGHBOURHOOD</th><th scope=col>X</th><th scope=col>Y</th></tr>\n",
       "\t<tr><th></th><th scope=col>&lt;chr&gt;</th><th scope=col>&lt;int&gt;</th><th scope=col>&lt;int&gt;</th><th scope=col>&lt;int&gt;</th><th scope=col>&lt;int&gt;</th><th scope=col>&lt;int&gt;</th><th scope=col>&lt;chr&gt;</th><th scope=col>&lt;chr&gt;</th><th scope=col>&lt;dbl&gt;</th><th scope=col>&lt;dbl&gt;</th></tr>\n",
       "</thead>\n",
       "<tbody>\n",
       "\t<tr><th scope=row>1</th><td>Break and Enter Commercial</td><td>2012</td><td>12</td><td>14</td><td> 8</td><td>52</td><td>               </td><td>Oakridge</td><td>491285.0</td><td>5453433</td></tr>\n",
       "\t<tr><th scope=row>2</th><td>Break and Enter Commercial</td><td>2019</td><td> 3</td><td> 7</td><td> 2</td><td> 6</td><td>10XX SITKA SQ  </td><td>Fairview</td><td>490613.0</td><td>5457110</td></tr>\n",
       "\t<tr><th scope=row>3</th><td>Break and Enter Commercial</td><td>2019</td><td> 8</td><td>27</td><td> 4</td><td>12</td><td>10XX ALBERNI ST</td><td>West End</td><td>491007.8</td><td>5459174</td></tr>\n",
       "\t<tr><th scope=row>4</th><td>Break and Enter Commercial</td><td>2021</td><td> 4</td><td>26</td><td> 4</td><td>44</td><td>10XX ALBERNI ST</td><td>West End</td><td>491007.8</td><td>5459174</td></tr>\n",
       "\t<tr><th scope=row>5</th><td>Break and Enter Commercial</td><td>2014</td><td> 8</td><td> 8</td><td> 5</td><td>13</td><td>10XX ALBERNI ST</td><td>West End</td><td>491015.9</td><td>5459166</td></tr>\n",
       "\t<tr><th scope=row>6</th><td>Break and Enter Commercial</td><td>2020</td><td> 7</td><td>28</td><td>19</td><td>12</td><td>10XX ALBERNI ST</td><td>West End</td><td>491015.9</td><td>5459166</td></tr>\n",
       "</tbody>\n",
       "</table>\n"
      ],
      "text/latex": [
       "A data.frame: 6 × 10\n",
       "\\begin{tabular}{r|llllllllll}\n",
       "  & TYPE & YEAR & MONTH & DAY & HOUR & MINUTE & HUNDRED\\_BLOCK & NEIGHBOURHOOD & X & Y\\\\\n",
       "  & <chr> & <int> & <int> & <int> & <int> & <int> & <chr> & <chr> & <dbl> & <dbl>\\\\\n",
       "\\hline\n",
       "\t1 & Break and Enter Commercial & 2012 & 12 & 14 &  8 & 52 &                 & Oakridge & 491285.0 & 5453433\\\\\n",
       "\t2 & Break and Enter Commercial & 2019 &  3 &  7 &  2 &  6 & 10XX SITKA SQ   & Fairview & 490613.0 & 5457110\\\\\n",
       "\t3 & Break and Enter Commercial & 2019 &  8 & 27 &  4 & 12 & 10XX ALBERNI ST & West End & 491007.8 & 5459174\\\\\n",
       "\t4 & Break and Enter Commercial & 2021 &  4 & 26 &  4 & 44 & 10XX ALBERNI ST & West End & 491007.8 & 5459174\\\\\n",
       "\t5 & Break and Enter Commercial & 2014 &  8 &  8 &  5 & 13 & 10XX ALBERNI ST & West End & 491015.9 & 5459166\\\\\n",
       "\t6 & Break and Enter Commercial & 2020 &  7 & 28 & 19 & 12 & 10XX ALBERNI ST & West End & 491015.9 & 5459166\\\\\n",
       "\\end{tabular}\n"
      ],
      "text/markdown": [
       "\n",
       "A data.frame: 6 × 10\n",
       "\n",
       "| <!--/--> | TYPE &lt;chr&gt; | YEAR &lt;int&gt; | MONTH &lt;int&gt; | DAY &lt;int&gt; | HOUR &lt;int&gt; | MINUTE &lt;int&gt; | HUNDRED_BLOCK &lt;chr&gt; | NEIGHBOURHOOD &lt;chr&gt; | X &lt;dbl&gt; | Y &lt;dbl&gt; |\n",
       "|---|---|---|---|---|---|---|---|---|---|---|\n",
       "| 1 | Break and Enter Commercial | 2012 | 12 | 14 |  8 | 52 | <!----> | Oakridge | 491285.0 | 5453433 |\n",
       "| 2 | Break and Enter Commercial | 2019 |  3 |  7 |  2 |  6 | 10XX SITKA SQ   | Fairview | 490613.0 | 5457110 |\n",
       "| 3 | Break and Enter Commercial | 2019 |  8 | 27 |  4 | 12 | 10XX ALBERNI ST | West End | 491007.8 | 5459174 |\n",
       "| 4 | Break and Enter Commercial | 2021 |  4 | 26 |  4 | 44 | 10XX ALBERNI ST | West End | 491007.8 | 5459174 |\n",
       "| 5 | Break and Enter Commercial | 2014 |  8 |  8 |  5 | 13 | 10XX ALBERNI ST | West End | 491015.9 | 5459166 |\n",
       "| 6 | Break and Enter Commercial | 2020 |  7 | 28 | 19 | 12 | 10XX ALBERNI ST | West End | 491015.9 | 5459166 |\n",
       "\n"
      ],
      "text/plain": [
       "  TYPE                       YEAR MONTH DAY HOUR MINUTE HUNDRED_BLOCK  \n",
       "1 Break and Enter Commercial 2012 12    14   8   52                    \n",
       "2 Break and Enter Commercial 2019  3     7   2    6     10XX SITKA SQ  \n",
       "3 Break and Enter Commercial 2019  8    27   4   12     10XX ALBERNI ST\n",
       "4 Break and Enter Commercial 2021  4    26   4   44     10XX ALBERNI ST\n",
       "5 Break and Enter Commercial 2014  8     8   5   13     10XX ALBERNI ST\n",
       "6 Break and Enter Commercial 2020  7    28  19   12     10XX ALBERNI ST\n",
       "  NEIGHBOURHOOD X        Y      \n",
       "1 Oakridge      491285.0 5453433\n",
       "2 Fairview      490613.0 5457110\n",
       "3 West End      491007.8 5459174\n",
       "4 West End      491007.8 5459174\n",
       "5 West End      491015.9 5459166\n",
       "6 West End      491015.9 5459166"
      ]
     },
     "metadata": {},
     "output_type": "display_data"
    }
   ],
   "source": [
    "# reading data\n",
    "crimes_url <- \"https://raw.githubusercontent.com/NeilLi26/STAT201-project/main/crimedata_csv_AllNeighbourhoods_AllYears.csv\"\n",
    "crime_data <- read.csv(crimes_url)\n",
    "head(crime_data)"
   ]
  },
  {
   "cell_type": "markdown",
   "id": "b4a6b26d",
   "metadata": {},
   "source": [
    "Because we want to have the crime data be more representative of the difference between the years leading up to the pandemic to the years during and after the pandemic, we will filter the data to only include years from 2017 onwards, and before November since 2022 has not had a November yet. We will also only need the columns containing the type of the crime, year the crime was committed."
   ]
  },
  {
   "cell_type": "code",
   "execution_count": 3,
   "id": "4827088f",
   "metadata": {},
   "outputs": [
    {
     "data": {
      "text/html": [
       "<table class=\"dataframe\">\n",
       "<caption>A data.frame: 6 × 2</caption>\n",
       "<thead>\n",
       "\t<tr><th></th><th scope=col>TYPE</th><th scope=col>YEAR</th></tr>\n",
       "\t<tr><th></th><th scope=col>&lt;chr&gt;</th><th scope=col>&lt;int&gt;</th></tr>\n",
       "</thead>\n",
       "<tbody>\n",
       "\t<tr><th scope=row>1</th><td>Break and Enter Commercial</td><td>2019</td></tr>\n",
       "\t<tr><th scope=row>2</th><td>Break and Enter Commercial</td><td>2019</td></tr>\n",
       "\t<tr><th scope=row>3</th><td>Break and Enter Commercial</td><td>2021</td></tr>\n",
       "\t<tr><th scope=row>4</th><td>Break and Enter Commercial</td><td>2020</td></tr>\n",
       "\t<tr><th scope=row>5</th><td>Break and Enter Commercial</td><td>2022</td></tr>\n",
       "\t<tr><th scope=row>6</th><td>Break and Enter Commercial</td><td>2022</td></tr>\n",
       "</tbody>\n",
       "</table>\n"
      ],
      "text/latex": [
       "A data.frame: 6 × 2\n",
       "\\begin{tabular}{r|ll}\n",
       "  & TYPE & YEAR\\\\\n",
       "  & <chr> & <int>\\\\\n",
       "\\hline\n",
       "\t1 & Break and Enter Commercial & 2019\\\\\n",
       "\t2 & Break and Enter Commercial & 2019\\\\\n",
       "\t3 & Break and Enter Commercial & 2021\\\\\n",
       "\t4 & Break and Enter Commercial & 2020\\\\\n",
       "\t5 & Break and Enter Commercial & 2022\\\\\n",
       "\t6 & Break and Enter Commercial & 2022\\\\\n",
       "\\end{tabular}\n"
      ],
      "text/markdown": [
       "\n",
       "A data.frame: 6 × 2\n",
       "\n",
       "| <!--/--> | TYPE &lt;chr&gt; | YEAR &lt;int&gt; |\n",
       "|---|---|---|\n",
       "| 1 | Break and Enter Commercial | 2019 |\n",
       "| 2 | Break and Enter Commercial | 2019 |\n",
       "| 3 | Break and Enter Commercial | 2021 |\n",
       "| 4 | Break and Enter Commercial | 2020 |\n",
       "| 5 | Break and Enter Commercial | 2022 |\n",
       "| 6 | Break and Enter Commercial | 2022 |\n",
       "\n"
      ],
      "text/plain": [
       "  TYPE                       YEAR\n",
       "1 Break and Enter Commercial 2019\n",
       "2 Break and Enter Commercial 2019\n",
       "3 Break and Enter Commercial 2021\n",
       "4 Break and Enter Commercial 2020\n",
       "5 Break and Enter Commercial 2022\n",
       "6 Break and Enter Commercial 2022"
      ]
     },
     "metadata": {},
     "output_type": "display_data"
    }
   ],
   "source": [
    "# selecting data after 2017 and before November\n",
    "crime_data_processed <- crime_data %>%\n",
    "    filter(YEAR >= 2017, MONTH <= 10) %>%\n",
    "    select(TYPE, YEAR)\n",
    "head(crime_data_processed)"
   ]
  },
  {
   "cell_type": "markdown",
   "id": "b473efa0-9845-42f5-b110-b5974e361f89",
   "metadata": {},
   "source": [
    "We want to know what kinds of crimes are present, in order for us to determine what kinds of crimes present could be considered as financially motivated."
   ]
  },
  {
   "cell_type": "code",
   "execution_count": 4,
   "id": "d50ed280-ca37-4e43-b454-f2621f7ca0d6",
   "metadata": {
    "tags": []
   },
   "outputs": [
    {
     "data": {
      "text/html": [
       "<table class=\"dataframe\">\n",
       "<caption>A tibble: 11 × 1</caption>\n",
       "<thead>\n",
       "\t<tr><th scope=col>TYPE</th></tr>\n",
       "\t<tr><th scope=col>&lt;chr&gt;</th></tr>\n",
       "</thead>\n",
       "<tbody>\n",
       "\t<tr><td>Break and Enter Commercial                            </td></tr>\n",
       "\t<tr><td>Break and Enter Residential/Other                     </td></tr>\n",
       "\t<tr><td>Homicide                                              </td></tr>\n",
       "\t<tr><td>Mischief                                              </td></tr>\n",
       "\t<tr><td>Offence Against a Person                              </td></tr>\n",
       "\t<tr><td>Other Theft                                           </td></tr>\n",
       "\t<tr><td>Theft from Vehicle                                    </td></tr>\n",
       "\t<tr><td>Theft of Bicycle                                      </td></tr>\n",
       "\t<tr><td>Theft of Vehicle                                      </td></tr>\n",
       "\t<tr><td>Vehicle Collision or Pedestrian Struck (with Fatality)</td></tr>\n",
       "\t<tr><td>Vehicle Collision or Pedestrian Struck (with Injury)  </td></tr>\n",
       "</tbody>\n",
       "</table>\n"
      ],
      "text/latex": [
       "A tibble: 11 × 1\n",
       "\\begin{tabular}{l}\n",
       " TYPE\\\\\n",
       " <chr>\\\\\n",
       "\\hline\n",
       "\t Break and Enter Commercial                            \\\\\n",
       "\t Break and Enter Residential/Other                     \\\\\n",
       "\t Homicide                                              \\\\\n",
       "\t Mischief                                              \\\\\n",
       "\t Offence Against a Person                              \\\\\n",
       "\t Other Theft                                           \\\\\n",
       "\t Theft from Vehicle                                    \\\\\n",
       "\t Theft of Bicycle                                      \\\\\n",
       "\t Theft of Vehicle                                      \\\\\n",
       "\t Vehicle Collision or Pedestrian Struck (with Fatality)\\\\\n",
       "\t Vehicle Collision or Pedestrian Struck (with Injury)  \\\\\n",
       "\\end{tabular}\n"
      ],
      "text/markdown": [
       "\n",
       "A tibble: 11 × 1\n",
       "\n",
       "| TYPE &lt;chr&gt; |\n",
       "|---|\n",
       "| Break and Enter Commercial                             |\n",
       "| Break and Enter Residential/Other                      |\n",
       "| Homicide                                               |\n",
       "| Mischief                                               |\n",
       "| Offence Against a Person                               |\n",
       "| Other Theft                                            |\n",
       "| Theft from Vehicle                                     |\n",
       "| Theft of Bicycle                                       |\n",
       "| Theft of Vehicle                                       |\n",
       "| Vehicle Collision or Pedestrian Struck (with Fatality) |\n",
       "| Vehicle Collision or Pedestrian Struck (with Injury)   |\n",
       "\n"
      ],
      "text/plain": [
       "   TYPE                                                  \n",
       "1  Break and Enter Commercial                            \n",
       "2  Break and Enter Residential/Other                     \n",
       "3  Homicide                                              \n",
       "4  Mischief                                              \n",
       "5  Offence Against a Person                              \n",
       "6  Other Theft                                           \n",
       "7  Theft from Vehicle                                    \n",
       "8  Theft of Bicycle                                      \n",
       "9  Theft of Vehicle                                      \n",
       "10 Vehicle Collision or Pedestrian Struck (with Fatality)\n",
       "11 Vehicle Collision or Pedestrian Struck (with Injury)  "
      ]
     },
     "metadata": {},
     "output_type": "display_data"
    }
   ],
   "source": [
    "crime_types <- crime_data_processed %>%\n",
    "    select(TYPE) %>%\n",
    "    group_by(TYPE) %>%\n",
    "    summarise(n = n()) %>%\n",
    "    select(TYPE)\n",
    "crime_types"
   ]
  },
  {
   "cell_type": "markdown",
   "id": "a114a6bf-6936-4d8b-b709-9ae6bc8a94db",
   "metadata": {},
   "source": [
    "We deem the \"Breaking and Entering\" and \"Theft\" type crimes to be financially motivated. This was decided from the tibble above, and some further research by ourselves (Ferguson E., 2015).\n",
    "\n",
    "The financial crimes are stored in the tibble below:"
   ]
  },
  {
   "cell_type": "code",
   "execution_count": 5,
   "id": "5078ac85-38bb-4dc1-8c81-ab8275e439d6",
   "metadata": {},
   "outputs": [],
   "source": [
    "financial_crimes <- c(\"Break and Enter Commercial\", \"Break and Enter Residential/Other\", \"Other Theft\", \"Theft from Vehicle\",\n",
    "                     \"Theft of Bicycle\", \"Theft of Vehicle\")"
   ]
  },
  {
   "cell_type": "markdown",
   "id": "a2120553-2ff5-4285-8cb1-130d5506afb4",
   "metadata": {},
   "source": [
    "## Methods and Results"
   ]
  },
  {
   "cell_type": "markdown",
   "id": "c843afdd-e569-43a7-a6e6-42e28a8a42b3",
   "metadata": {},
   "source": [
    "### Bootstrapping"
   ]
  },
  {
   "cell_type": "markdown",
   "id": "b5ab88cb",
   "metadata": {},
   "source": [
    "We first decided to use a bootstrap method to get a better understanding of what the difference of proportions look like, so that we could have good idea of what to expect when we move to hypothesis testing.\n",
    "\n",
    "First of all, we would like to visualize the distribution of the difference of proportions, by taking a series of bootstrap samples and calculating the proportion of crimes that are financially motivated before and after the pandemic, and calculating the difference between these proportions.\n",
    "\n",
    "The original sample size is chosen to be 2000 as that is a large enough sample size to decrease the likelihood of drawing an unrepresentative data set, but also one that is not too large as we found that to be too computationally intensive."
   ]
  },
  {
   "cell_type": "code",
   "execution_count": 6,
   "id": "20d561b5-5f67-4d58-b6e8-f53164f38208",
   "metadata": {},
   "outputs": [
    {
     "data": {
      "text/html": [
       "<table class=\"dataframe\">\n",
       "<caption>A grouped_df: 6 × 4</caption>\n",
       "<thead>\n",
       "\t<tr><th scope=col>replicate</th><th scope=col>TYPE</th><th scope=col>YEAR</th><th scope=col>Pandemic</th></tr>\n",
       "\t<tr><th scope=col>&lt;int&gt;</th><th scope=col>&lt;chr&gt;</th><th scope=col>&lt;int&gt;</th><th scope=col>&lt;chr&gt;</th></tr>\n",
       "</thead>\n",
       "<tbody>\n",
       "\t<tr><td>1</td><td>Theft from Vehicle</td><td>2018</td><td>Before</td></tr>\n",
       "\t<tr><td>1</td><td>Theft from Vehicle</td><td>2018</td><td>Before</td></tr>\n",
       "\t<tr><td>1</td><td>Theft from Vehicle</td><td>2018</td><td>Before</td></tr>\n",
       "\t<tr><td>1</td><td>Other Theft       </td><td>2022</td><td>After </td></tr>\n",
       "\t<tr><td>1</td><td>Mischief          </td><td>2021</td><td>After </td></tr>\n",
       "\t<tr><td>1</td><td>Theft of Bicycle  </td><td>2017</td><td>Before</td></tr>\n",
       "</tbody>\n",
       "</table>\n"
      ],
      "text/latex": [
       "A grouped\\_df: 6 × 4\n",
       "\\begin{tabular}{llll}\n",
       " replicate & TYPE & YEAR & Pandemic\\\\\n",
       " <int> & <chr> & <int> & <chr>\\\\\n",
       "\\hline\n",
       "\t 1 & Theft from Vehicle & 2018 & Before\\\\\n",
       "\t 1 & Theft from Vehicle & 2018 & Before\\\\\n",
       "\t 1 & Theft from Vehicle & 2018 & Before\\\\\n",
       "\t 1 & Other Theft        & 2022 & After \\\\\n",
       "\t 1 & Mischief           & 2021 & After \\\\\n",
       "\t 1 & Theft of Bicycle   & 2017 & Before\\\\\n",
       "\\end{tabular}\n"
      ],
      "text/markdown": [
       "\n",
       "A grouped_df: 6 × 4\n",
       "\n",
       "| replicate &lt;int&gt; | TYPE &lt;chr&gt; | YEAR &lt;int&gt; | Pandemic &lt;chr&gt; |\n",
       "|---|---|---|---|\n",
       "| 1 | Theft from Vehicle | 2018 | Before |\n",
       "| 1 | Theft from Vehicle | 2018 | Before |\n",
       "| 1 | Theft from Vehicle | 2018 | Before |\n",
       "| 1 | Other Theft        | 2022 | After  |\n",
       "| 1 | Mischief           | 2021 | After  |\n",
       "| 1 | Theft of Bicycle   | 2017 | Before |\n",
       "\n"
      ],
      "text/plain": [
       "  replicate TYPE               YEAR Pandemic\n",
       "1 1         Theft from Vehicle 2018 Before  \n",
       "2 1         Theft from Vehicle 2018 Before  \n",
       "3 1         Theft from Vehicle 2018 Before  \n",
       "4 1         Other Theft        2022 After   \n",
       "5 1         Mischief           2021 After   \n",
       "6 1         Theft of Bicycle   2017 Before  "
      ]
     },
     "metadata": {},
     "output_type": "display_data"
    }
   ],
   "source": [
    "# take a single sample with size 2000 from population\n",
    "set.seed(2190)\n",
    "sample_size <- 2000\n",
    "crime_sample <- crime_data_processed %>%\n",
    "    rep_sample_n(size = sample_size, replace = FALSE) %>%\n",
    "    mutate(Pandemic = ifelse(YEAR < 2020, \"Before\", \"After\"))\n",
    "head(crime_sample)"
   ]
  },
  {
   "cell_type": "code",
   "execution_count": 7,
   "id": "153af355-f72d-4402-82be-bed8cff91c05",
   "metadata": {},
   "outputs": [
    {
     "name": "stderr",
     "output_type": "stream",
     "text": [
      "\u001b[1m\u001b[22mNew names:\n",
      "\u001b[36m•\u001b[39m `replicate` -> `replicate...1`\n",
      "\u001b[36m•\u001b[39m `replicate` -> `replicate...2`\n",
      "\u001b[1m\u001b[22m`summarise()` has grouped output by 'replicate...1'. You can override using the\n",
      "`.groups` argument.\n"
     ]
    },
    {
     "data": {
      "text/html": [
       "<table class=\"dataframe\">\n",
       "<caption>A grouped_df: 6 × 4</caption>\n",
       "<thead>\n",
       "\t<tr><th scope=col>replicate</th><th scope=col>After</th><th scope=col>Before</th><th scope=col>diff</th></tr>\n",
       "\t<tr><th scope=col>&lt;int&gt;</th><th scope=col>&lt;dbl&gt;</th><th scope=col>&lt;dbl&gt;</th><th scope=col>&lt;dbl&gt;</th></tr>\n",
       "</thead>\n",
       "<tbody>\n",
       "\t<tr><td>1</td><td>0.7321637</td><td>0.7764192</td><td>0.04425547</td></tr>\n",
       "\t<tr><td>2</td><td>0.6730310</td><td>0.7796902</td><td>0.10665916</td></tr>\n",
       "\t<tr><td>3</td><td>0.7051282</td><td>0.7845884</td><td>0.07946024</td></tr>\n",
       "\t<tr><td>4</td><td>0.7204059</td><td>0.7744834</td><td>0.05407752</td></tr>\n",
       "\t<tr><td>5</td><td>0.6980256</td><td>0.7682177</td><td>0.07019218</td></tr>\n",
       "\t<tr><td>6</td><td>0.7209302</td><td>0.7827557</td><td>0.06182547</td></tr>\n",
       "</tbody>\n",
       "</table>\n"
      ],
      "text/latex": [
       "A grouped\\_df: 6 × 4\n",
       "\\begin{tabular}{llll}\n",
       " replicate & After & Before & diff\\\\\n",
       " <int> & <dbl> & <dbl> & <dbl>\\\\\n",
       "\\hline\n",
       "\t 1 & 0.7321637 & 0.7764192 & 0.04425547\\\\\n",
       "\t 2 & 0.6730310 & 0.7796902 & 0.10665916\\\\\n",
       "\t 3 & 0.7051282 & 0.7845884 & 0.07946024\\\\\n",
       "\t 4 & 0.7204059 & 0.7744834 & 0.05407752\\\\\n",
       "\t 5 & 0.6980256 & 0.7682177 & 0.07019218\\\\\n",
       "\t 6 & 0.7209302 & 0.7827557 & 0.06182547\\\\\n",
       "\\end{tabular}\n"
      ],
      "text/markdown": [
       "\n",
       "A grouped_df: 6 × 4\n",
       "\n",
       "| replicate &lt;int&gt; | After &lt;dbl&gt; | Before &lt;dbl&gt; | diff &lt;dbl&gt; |\n",
       "|---|---|---|---|\n",
       "| 1 | 0.7321637 | 0.7764192 | 0.04425547 |\n",
       "| 2 | 0.6730310 | 0.7796902 | 0.10665916 |\n",
       "| 3 | 0.7051282 | 0.7845884 | 0.07946024 |\n",
       "| 4 | 0.7204059 | 0.7744834 | 0.05407752 |\n",
       "| 5 | 0.6980256 | 0.7682177 | 0.07019218 |\n",
       "| 6 | 0.7209302 | 0.7827557 | 0.06182547 |\n",
       "\n"
      ],
      "text/plain": [
       "  replicate After     Before    diff      \n",
       "1 1         0.7321637 0.7764192 0.04425547\n",
       "2 2         0.6730310 0.7796902 0.10665916\n",
       "3 3         0.7051282 0.7845884 0.07946024\n",
       "4 4         0.7204059 0.7744834 0.05407752\n",
       "5 5         0.6980256 0.7682177 0.07019218\n",
       "6 6         0.7209302 0.7827557 0.06182547"
      ]
     },
     "metadata": {},
     "output_type": "display_data"
    }
   ],
   "source": [
    "# create 1000 bootstrap samples with size 2000 of the difference in the proportion of financial crimes commited before the pandemic \n",
    "# (YEAR < 2020) \n",
    "set.seed(2190)\n",
    "bootstrap_sample <- crime_sample %>%\n",
    "    rep_sample_n(size = sample_size, reps = 1000, replace = TRUE) %>%\n",
    "    group_by(replicate...1,Pandemic) %>%\n",
    "    summarize(prop = sum(TYPE %in% financial_crimes)/n())%>%\n",
    "    pivot_wider(names_from = Pandemic, values_from = prop)%>%\n",
    "    mutate(diff = Before - After)%>%\n",
    "    rename(replicate = `replicate...1`)\n",
    "head(bootstrap_sample)"
   ]
  },
  {
   "cell_type": "code",
   "execution_count": 8,
   "id": "3a249f02-e3bc-4101-8c16-370175762d5c",
   "metadata": {},
   "outputs": [
    {
     "data": {
      "image/png": "[encoded data removed]",
      "text/plain": [
       "plot without title"
      ]
     },
     "metadata": {
      "image/png": {
       "height": 420,
       "width": 420
      }
     },
     "output_type": "display_data"
    }
   ],
   "source": [
    "#Visualize the bootstrap distribution\n",
    "bootstrap_sampling_distribution <- bootstrap_sample%>%\n",
    "    ggplot(aes(x = diff)) +\n",
    "    geom_histogram(binwidth = 0.01) +\n",
    "    xlab(\"Difference in Proportion of Financially Motivated Crimes Commited\") +\n",
    "    ggtitle(\"Figure 1: Bootstrap Sampling Distribution\") \n",
    "    \n",
    "bootstrap_sampling_distribution"
   ]
  },
  {
   "cell_type": "markdown",
   "id": "b027ae2d-e0e5-4116-95e6-d1f7bae215d5",
   "metadata": {},
   "source": [
    "We then calculate all the important statistics, such as the mean, variance, and the 95% confidence interval. This was done so that we could better see what proportion of the differences may lie above or below 0. In our case after observing the histogram above, we would be more interested in seeing what proportion is actaully below 0."
   ]
  },
  {
   "cell_type": "code",
   "execution_count": 9,
   "id": "ebb3aad3-87d0-4600-8a4d-b3cbb97ce77c",
   "metadata": {},
   "outputs": [
    {
     "data": {
      "text/html": [
       "<table class=\"dataframe\">\n",
       "<caption>A data.frame: 1 × 4</caption>\n",
       "<thead>\n",
       "\t<tr><th scope=col>sample_mean_proportion</th><th scope=col>sample_proportion_var</th><th scope=col>lower_ci</th><th scope=col>upper_ci</th></tr>\n",
       "\t<tr><th scope=col>&lt;dbl&gt;</th><th scope=col>&lt;dbl&gt;</th><th scope=col>&lt;dbl&gt;</th><th scope=col>&lt;dbl&gt;</th></tr>\n",
       "</thead>\n",
       "<tbody>\n",
       "\t<tr><td>0.06899849</td><td>0.0004092966</td><td>0.0304651</td><td>0.1075528</td></tr>\n",
       "</tbody>\n",
       "</table>\n"
      ],
      "text/latex": [
       "A data.frame: 1 × 4\n",
       "\\begin{tabular}{llll}\n",
       " sample\\_mean\\_proportion & sample\\_proportion\\_var & lower\\_ci & upper\\_ci\\\\\n",
       " <dbl> & <dbl> & <dbl> & <dbl>\\\\\n",
       "\\hline\n",
       "\t 0.06899849 & 0.0004092966 & 0.0304651 & 0.1075528\\\\\n",
       "\\end{tabular}\n"
      ],
      "text/markdown": [
       "\n",
       "A data.frame: 1 × 4\n",
       "\n",
       "| sample_mean_proportion &lt;dbl&gt; | sample_proportion_var &lt;dbl&gt; | lower_ci &lt;dbl&gt; | upper_ci &lt;dbl&gt; |\n",
       "|---|---|---|---|\n",
       "| 0.06899849 | 0.0004092966 | 0.0304651 | 0.1075528 |\n",
       "\n"
      ],
      "text/plain": [
       "  sample_mean_proportion sample_proportion_var lower_ci  upper_ci \n",
       "1 0.06899849             0.0004092966          0.0304651 0.1075528"
      ]
     },
     "metadata": {},
     "output_type": "display_data"
    }
   ],
   "source": [
    "# calculate the mean and var of difference in crimes commited\n",
    "sample_mean_proportion <- mean(bootstrap_sample$diff)\n",
    "sample_proportion_var <- var(bootstrap_sample$diff)\n",
    "\n",
    "#obtain 95% confidence interval \n",
    "ci <- bootstrap_sample %>%\n",
    "    get_ci(level = 0.95, type = \"percentile\")\n",
    "bootstrap_Table <- data.frame(sample_mean_proportion, sample_proportion_var) %>%\n",
    "    merge(ci)\n",
    "bootstrap_Table"
   ]
  },
  {
   "cell_type": "markdown",
   "id": "0b90e999-a860-4bd5-9185-7d9543ab0341",
   "metadata": {},
   "source": [
    "These statistics could be more meaningfully portrayed on a plot, so we added a blue semi-transparent rectangle to represent the confidence interval, with a red line to represent the mean."
   ]
  },
  {
   "cell_type": "code",
   "execution_count": 10,
   "id": "1c8cbbc1-1448-4002-b504-4074126191b4",
   "metadata": {},
   "outputs": [
    {
     "data": {
      "image/png": "[encoded data removed]",
      "text/plain": [
       "plot without title"
      ]
     },
     "metadata": {
      "image/png": {
       "height": 420,
       "width": 420
      }
     },
     "output_type": "display_data"
    }
   ],
   "source": [
    "#Visualize the bootstrap distribution with 95% confidence interval\n",
    "ci_plot <- bootstrap_sample%>%\n",
    "    ggplot(aes(x = diff)) +\n",
    "    geom_histogram (binwidth = 0.01, colour = \"white\", fill = \"grey\") +\n",
    "    annotate(\"rect\", xmin = ci$lower_ci, xmax = ci$upper_ci, ymin = 0, ymax = Inf,\n",
    "             fill = \"deepskyblue\",\n",
    "             alpha = 0.3) +\n",
    "    xlab(\"Difference in Proportion of Financially Motivated Crimes\")+\n",
    "    ggtitle(\"Figure 2: Bootstrap Distribution with 95% Confidence Interval and Mean\") +\n",
    "    geom_vline(aes(xintercept= sample_mean_proportion), colour = \"red\")\n",
    "ci_plot"
   ]
  },
  {
   "cell_type": "markdown",
   "id": "73bb3056-3219-40f7-b38c-8bc09342e868",
   "metadata": {},
   "source": [
    "We then create a null model by recentering the distribution above to be centered at our value of interest: 0, and calculate for the mean difference of proportions of all the bootstrap values. We can see how likely it is for the null model to be true by finding the proportion of points in our null model that has values lower than the observed test statistic"
   ]
  },
  {
   "cell_type": "code",
   "execution_count": 11,
   "id": "a9fa894b-fb7a-459f-b7f6-525f25e7aaaa",
   "metadata": {},
   "outputs": [
    {
     "name": "stdout",
     "output_type": "stream",
     "text": [
      "[1] \"test statistic:  0.068998489073459\"\n",
      "[1] \"p value:  1\"\n"
     ]
    }
   ],
   "source": [
    "## make hypothesis test for difference proportions based \n",
    "# on bootstrapping methods, see Tutorial 6 question 3 for examples\n",
    "\n",
    "# calculate observed test statistic\n",
    "obs_test_stat <- mean(bootstrap_sample$diff)\n",
    "print(paste(\"test statistic: \", obs_test_stat))\n",
    "\n",
    "# construct null model\n",
    "null_model <- \n",
    "    bootstrap_sample %>% \n",
    "    mutate(stat = diff - (obs_test_stat - 0 ) )\n",
    "\n",
    "# obtain p-value\n",
    "p_value <- mean(null_model$stat < obs_test_stat)\n",
    "\n",
    "print(paste(\"p value: \", p_value))"
   ]
  },
  {
   "cell_type": "markdown",
   "id": "a4fd1ee2-988a-45f7-a1f1-057946ff6deb",
   "metadata": {},
   "source": [
    "This incredibly high p value would suggest of 1 that all of the data points in the null model are below the observed test statistic, meaning that it is almost guaranteed for the null hypothesis to be true according to the bootstrap method. \n",
    "\n",
    "We decided to visualise this on the plot below too, by placing a red line at our test statistic. And it is evident that all data points in the null distribution are to the left of this line."
   ]
  },
  {
   "cell_type": "code",
   "execution_count": 12,
   "id": "9a076467-41a1-4694-85fc-a00c1b97f501",
   "metadata": {
    "tags": []
   },
   "outputs": [
    {
     "data": {
      "image/png": "[encoded data removed]",
      "text/plain": [
       "plot without title"
      ]
     },
     "metadata": {
      "image/png": {
       "height": 420,
       "width": 420
      }
     },
     "output_type": "display_data"
    }
   ],
   "source": [
    "# visualize the null model\n",
    "null_model_plot <-\n",
    "    null_model %>%\n",
    "    ggplot(aes(x = stat)) +\n",
    "    geom_histogram(binwidth = 0.01) +\n",
    "    geom_vline(xintercept = obs_test_stat, color = \"red\", alpha=.3, lwd=2)  +\n",
    "    xlab(\"Difference in Proportion of Financially Motivated Crimes\") +\n",
    "    ggtitle(\"Figure 3: Null Distribution\") \n",
    "\n",
    "null_model_plot"
   ]
  },
  {
   "cell_type": "markdown",
   "id": "2f00bac6-76e9-4556-b7cb-f4b450ed525b",
   "metadata": {},
   "source": [
    "We would still like to see what results the central limit theroem and theory based approaches might yield."
   ]
  },
  {
   "cell_type": "markdown",
   "id": "ebd1a638-23ae-4fc9-a777-4c376210e044",
   "metadata": {},
   "source": [
    "### CLT Based Approach"
   ]
  },
  {
   "cell_type": "markdown",
   "id": "28e6b404",
   "metadata": {},
   "source": [
    "For comparison's sake, we were also interested in how different the results we got from theoretical calculations would differ compared to the results we got using bootstrapping. So using the same seed, we took some samples first to get a proper confidence interval again, to see how much of the distribution is below 0.\n",
    "\n",
    "Because this is a large dataset, we have the luxury of creating many large samples, and with those large samples we could apply the central limit theorem to get the same crucial data that we got before. First we took 1000 samples of size 2000, as we want many large samples for the central limit theorem to produce the most normal distribution. Then we plotted this on a graph, as seen below."
   ]
  },
  {
   "cell_type": "code",
   "execution_count": 13,
   "id": "c903b9d0-58e5-48d9-b620-58f7f0cdaa25",
   "metadata": {},
   "outputs": [
    {
     "name": "stderr",
     "output_type": "stream",
     "text": [
      "\u001b[1m\u001b[22m`summarise()` has grouped output by 'replicate'. You can override using the\n",
      "`.groups` argument.\n"
     ]
    },
    {
     "data": {
      "image/png": "[encoded data removed]",
      "text/plain": [
       "plot without title"
      ]
     },
     "metadata": {
      "image/png": {
       "height": 420,
       "width": 420
      }
     },
     "output_type": "display_data"
    }
   ],
   "source": [
    "# take 1000 single sample with size 2000 from population\n",
    "set.seed(2190)\n",
    "\n",
    "samples_CLT <- crime_data_processed %>%\n",
    "    rep_sample_n(size = 2000, reps = 1000, replace = FALSE) %>%\n",
    "    mutate(Pandemic = ifelse(YEAR < 2020, \"Before\", \"After\"))\n",
    "\n",
    "# calculate difference of crimes before and after 2020\n",
    "diff_sampling_dist_CLT <- \n",
    "samples_CLT %>%\n",
    "    group_by(replicate , Pandemic)%>%\n",
    "    summarize(prop = sum(TYPE %in% financial_crimes)/n()) %>%\n",
    "    pivot_wider(names_from = Pandemic, values_from = prop) %>%\n",
    "    mutate(diff = Before - After) \n",
    "\n",
    "# Visualize size 2000 sampling distribution\n",
    "diff_sampling_dist_plot_CLT <- \n",
    "diff_sampling_dist_CLT %>%\n",
    "   ggplot(aes(x = diff)) +\n",
    "   geom_histogram(bins = 20, color = 'white') +\n",
    "   ggtitle(\"Figure 4: Sampling Distribution of Difference of Proportion of \\n Financially Motivated Crimes Before and After Covid\") +\n",
    "   xlab(\"Difference in Proportion of Financially Motivated Crimes\") +\n",
    "   theme(text = element_text(size = 14))\n",
    "diff_sampling_dist_plot_CLT"
   ]
  },
  {
   "cell_type": "markdown",
   "id": "a002cd9f-4628-4eaf-9671-899258e21c10",
   "metadata": {},
   "source": [
    "For comparison's sake, we were also interested in how different the results we got from theoretical calculations would differ compared to the results we got using bootstrapping. So using the same seed, we took some samples first to get a proper confidence interval again, to see how much of the distribution is below 0."
   ]
  },
  {
   "cell_type": "code",
   "execution_count": 14,
   "id": "c6653587-f34b-431b-ba83-74300089fd13",
   "metadata": {},
   "outputs": [
    {
     "data": {
      "text/html": [
       "<table class=\"dataframe\">\n",
       "<caption>A data.frame: 1 × 4</caption>\n",
       "<thead>\n",
       "\t<tr><th scope=col>mean_CLT</th><th scope=col>var_CLT</th><th scope=col>lower_ci</th><th scope=col>upper_ci</th></tr>\n",
       "\t<tr><th scope=col>&lt;dbl&gt;</th><th scope=col>&lt;dbl&gt;</th><th scope=col>&lt;dbl&gt;</th><th scope=col>&lt;dbl&gt;</th></tr>\n",
       "</thead>\n",
       "<tbody>\n",
       "\t<tr><td>0.07614525</td><td>0.0003860956</td><td>0.0390271</td><td>0.1134796</td></tr>\n",
       "</tbody>\n",
       "</table>\n"
      ],
      "text/latex": [
       "A data.frame: 1 × 4\n",
       "\\begin{tabular}{llll}\n",
       " mean\\_CLT & var\\_CLT & lower\\_ci & upper\\_ci\\\\\n",
       " <dbl> & <dbl> & <dbl> & <dbl>\\\\\n",
       "\\hline\n",
       "\t 0.07614525 & 0.0003860956 & 0.0390271 & 0.1134796\\\\\n",
       "\\end{tabular}\n"
      ],
      "text/markdown": [
       "\n",
       "A data.frame: 1 × 4\n",
       "\n",
       "| mean_CLT &lt;dbl&gt; | var_CLT &lt;dbl&gt; | lower_ci &lt;dbl&gt; | upper_ci &lt;dbl&gt; |\n",
       "|---|---|---|---|\n",
       "| 0.07614525 | 0.0003860956 | 0.0390271 | 0.1134796 |\n",
       "\n"
      ],
      "text/plain": [
       "  mean_CLT   var_CLT      lower_ci  upper_ci \n",
       "1 0.07614525 0.0003860956 0.0390271 0.1134796"
      ]
     },
     "metadata": {},
     "output_type": "display_data"
    },
    {
     "data": {
      "text/html": [
       "<table class=\"dataframe\">\n",
       "<caption>A data.frame: 1 × 4</caption>\n",
       "<thead>\n",
       "\t<tr><th scope=col>sample_mean_proportion</th><th scope=col>sample_proportion_var</th><th scope=col>lower_ci</th><th scope=col>upper_ci</th></tr>\n",
       "\t<tr><th scope=col>&lt;dbl&gt;</th><th scope=col>&lt;dbl&gt;</th><th scope=col>&lt;dbl&gt;</th><th scope=col>&lt;dbl&gt;</th></tr>\n",
       "</thead>\n",
       "<tbody>\n",
       "\t<tr><td>0.06899849</td><td>0.0004092966</td><td>0.0304651</td><td>0.1075528</td></tr>\n",
       "</tbody>\n",
       "</table>\n"
      ],
      "text/latex": [
       "A data.frame: 1 × 4\n",
       "\\begin{tabular}{llll}\n",
       " sample\\_mean\\_proportion & sample\\_proportion\\_var & lower\\_ci & upper\\_ci\\\\\n",
       " <dbl> & <dbl> & <dbl> & <dbl>\\\\\n",
       "\\hline\n",
       "\t 0.06899849 & 0.0004092966 & 0.0304651 & 0.1075528\\\\\n",
       "\\end{tabular}\n"
      ],
      "text/markdown": [
       "\n",
       "A data.frame: 1 × 4\n",
       "\n",
       "| sample_mean_proportion &lt;dbl&gt; | sample_proportion_var &lt;dbl&gt; | lower_ci &lt;dbl&gt; | upper_ci &lt;dbl&gt; |\n",
       "|---|---|---|---|\n",
       "| 0.06899849 | 0.0004092966 | 0.0304651 | 0.1075528 |\n",
       "\n"
      ],
      "text/plain": [
       "  sample_mean_proportion sample_proportion_var lower_ci  upper_ci \n",
       "1 0.06899849             0.0004092966          0.0304651 0.1075528"
      ]
     },
     "metadata": {},
     "output_type": "display_data"
    }
   ],
   "source": [
    "# Get mean and var of sampling distribution\n",
    "mean_CLT <- mean(diff_sampling_dist_CLT$diff)\n",
    "var_CLT <- var(diff_sampling_dist_CLT$diff)\n",
    "\n",
    "# Get 95% confidence interval\n",
    "ci_CLT <- diff_sampling_dist_CLT %>%\n",
    "            get_confidence_interval(type = \"percentile\", level = 0.95)\n",
    "\n",
    "CLT_table <- data.frame(mean_CLT, var_CLT) %>%\n",
    "    merge(ci_CLT)\n",
    "CLT_table\n",
    "bootstrap_Table"
   ]
  },
  {
   "cell_type": "markdown",
   "id": "0d57ce19-0790-4041-9c3d-17484597c04c",
   "metadata": {},
   "source": [
    "From the tables above, it seems that the central limit theorem and bootstrap methods seem to yield very similar results. This is good but still we would trust the bootstrap method more as it makes less assumptions, especially about the independence of data points since it is possible that crimes have an impact on future crimes."
   ]
  },
  {
   "cell_type": "code",
   "execution_count": 15,
   "id": "18371f2e-67e2-47b8-9380-749ed705f781",
   "metadata": {},
   "outputs": [
    {
     "name": "stderr",
     "output_type": "stream",
     "text": [
      "Warning message:\n",
      "“\u001b[1m\u001b[22mUsing `size` aesthetic for lines was deprecated in ggplot2 3.4.0.\n",
      "\u001b[36mℹ\u001b[39m Please use `linewidth` instead.”\n"
     ]
    },
    {
     "data": {
      "image/png": "[encoded data removed]",
      "text/plain": [
       "plot without title"
      ]
     },
     "metadata": {
      "image/png": {
       "height": 420,
       "width": 420
      }
     },
     "output_type": "display_data"
    }
   ],
   "source": [
    "# lab mean on the sampling distribution\n",
    "# shade 95% confidence interval on the sampling distribution\n",
    "\n",
    "sample_quantile_plot <- \n",
    "    diff_sampling_dist_CLT %>% \n",
    "      ggplot(aes(x = diff)) +\n",
    "      geom_histogram(bins = 25, color = 'white') +\n",
    "      geom_vline(xintercept = mean_CLT, colour = \"red\", size = 1) +\n",
    "      annotate(\"rect\", \n",
    "              xmin = ci_CLT$lower_ci,\n",
    "              xmax = ci_CLT$upper_ci,\n",
    "              ymin = 0,\n",
    "              ymax = Inf,\n",
    "              fill = \"deepskyblue\",\n",
    "              alpha = 0.3) +\n",
    "      ggtitle(\"Figure 5: Sampling Distribution of Difference of Proportion of \\n Financially Motivated Crimes Before and After Covid\") +\n",
    "      xlab(\"Difference in Proportion of Financially Motivated Crimes\") +\n",
    "      theme(text = element_text(size = 14))\n",
    "\n",
    "sample_quantile_plot"
   ]
  },
  {
   "cell_type": "markdown",
   "id": "f11e36e6-94c3-45da-a00a-6bacfca7d931",
   "metadata": {},
   "source": [
    "From this point, it appears that the proportions are all consistently above 0, and the 95% confidence interval does not contain any values below 0. This suggests that it is very likely that the proportion of crimes that are financially motivated has decreased since the pandemic has started, but we would still like to perform a hypothesis test to confirm our suspicions. We first want to take a single large sample of size 2000, as that is a large amount of data points that is still less than 10% of our total population size. Then, we find the necessary data that we need for the hypothesis test, which is the proportion of financially motivated crimes and number of financially motivated crimes before and after the pandemic."
   ]
  },
  {
   "cell_type": "code",
   "execution_count": 16,
   "id": "38329d73-19fc-4ff0-a014-3937305b840b",
   "metadata": {},
   "outputs": [
    {
     "name": "stderr",
     "output_type": "stream",
     "text": [
      "\u001b[1m\u001b[22m`summarise()` has grouped output by 'replicate'. You can override using the\n",
      "`.groups` argument.\n"
     ]
    },
    {
     "data": {
      "text/html": [
       "<table class=\"dataframe\">\n",
       "<caption>A grouped_df: 2 × 4</caption>\n",
       "<thead>\n",
       "\t<tr><th scope=col>replicate</th><th scope=col>Pandemic</th><th scope=col>n</th><th scope=col>prop</th></tr>\n",
       "\t<tr><th scope=col>&lt;int&gt;</th><th scope=col>&lt;chr&gt;</th><th scope=col>&lt;int&gt;</th><th scope=col>&lt;dbl&gt;</th></tr>\n",
       "</thead>\n",
       "<tbody>\n",
       "\t<tr><td>1</td><td>After </td><td> 863</td><td>0.7056779</td></tr>\n",
       "\t<tr><td>1</td><td>Before</td><td>1137</td><td>0.7748461</td></tr>\n",
       "</tbody>\n",
       "</table>\n"
      ],
      "text/latex": [
       "A grouped\\_df: 2 × 4\n",
       "\\begin{tabular}{llll}\n",
       " replicate & Pandemic & n & prop\\\\\n",
       " <int> & <chr> & <int> & <dbl>\\\\\n",
       "\\hline\n",
       "\t 1 & After  &  863 & 0.7056779\\\\\n",
       "\t 1 & Before & 1137 & 0.7748461\\\\\n",
       "\\end{tabular}\n"
      ],
      "text/markdown": [
       "\n",
       "A grouped_df: 2 × 4\n",
       "\n",
       "| replicate &lt;int&gt; | Pandemic &lt;chr&gt; | n &lt;int&gt; | prop &lt;dbl&gt; |\n",
       "|---|---|---|---|\n",
       "| 1 | After  |  863 | 0.7056779 |\n",
       "| 1 | Before | 1137 | 0.7748461 |\n",
       "\n"
      ],
      "text/plain": [
       "  replicate Pandemic n    prop     \n",
       "1 1         After     863 0.7056779\n",
       "2 1         Before   1137 0.7748461"
      ]
     },
     "metadata": {},
     "output_type": "display_data"
    }
   ],
   "source": [
    "## do hypothesis testing for the difference in proportions based on the central limit theorem, see worksheet 8 question question 3.4 for examples\n",
    "set.seed(2190)\n",
    "sample_size <- 2000\n",
    "\n",
    "samples_hypothesis <- crime_data_processed %>%\n",
    "    rep_sample_n(size = 2000, reps = 1, replace = FALSE) %>%\n",
    "    mutate(Pandemic = ifelse(YEAR < 2020, \"Before\", \"After\")) %>%\n",
    "    group_by(replicate,Pandemic) %>%\n",
    "    summarize(n = n(),\n",
    "              prop = sum(TYPE %in% financial_crimes)/n())\n",
    "\n",
    "samples_hypothesis"
   ]
  },
  {
   "cell_type": "markdown",
   "id": "aa2b3af9-975d-4812-8484-6abd5b16d7b8",
   "metadata": {},
   "source": [
    "Using this information, we could then use the formulas learnt in our stat 201 class to calculate for the test statistic. We can use the pnorm function here as due to the large data size, we can assume normality and not bother with t-distributions."
   ]
  },
  {
   "cell_type": "code",
   "execution_count": 17,
   "id": "a02a25cf-cff5-420c-a071-dd0dbb240de5",
   "metadata": {},
   "outputs": [
    {
     "data": {
      "text/html": [
       "0.999780147565745"
      ],
      "text/latex": [
       "0.999780147565745"
      ],
      "text/markdown": [
       "0.999780147565745"
      ],
      "text/plain": [
       "[1] 0.9997801"
      ]
     },
     "metadata": {},
     "output_type": "display_data"
    }
   ],
   "source": [
    "# number of data points and proportions\n",
    "n1 <- samples_hypothesis$n[1]\n",
    "n2 <-samples_hypothesis$n[2]\n",
    "p1 <- samples_hypothesis$prop[1]\n",
    "p2 <- samples_hypothesis$prop[2]\n",
    "p_hat <- (n1*p1 + n2*p2)/(n1 + n2)\n",
    "\n",
    "test_statistic_theoretical <- (p2 - p1)/sqrt(p_hat * (1 - p_hat) * (1/n1 + 1/n2))\n",
    "\n",
    "p_score_theoretical <- pnorm(test_statistic_theoretical, lower.tail = TRUE)\n",
    "p_score_theoretical"
   ]
  },
  {
   "cell_type": "markdown",
   "id": "adaed0bd-82f9-4d4b-8f69-07835f794fae",
   "metadata": {},
   "source": [
    "This is once again a very high p-value, and it lines up very well with what we discovered in our bootstrap method."
   ]
  },
  {
   "cell_type": "markdown",
   "id": "3cd96f2f-d7b2-475d-8a39-7cc869b11c52",
   "metadata": {
    "tags": []
   },
   "source": [
    "## Discussion"
   ]
  },
  {
   "cell_type": "markdown",
   "id": "a19786f5-bce1-48ba-9085-712fb70480b5",
   "metadata": {},
   "source": [
    "Our hypothesis (research question) was: <b>Has Covid-19 affected the proportion of financially motivated crimes in Vancouver?<b>\n",
    "    \n",
    "The results were quite unexpected for us.\n",
    "    \n",
    "First, the visualization of bootstrapped sample has a normally distributed shape. Unless the bootstrapped plot is not normal, we could trust the bootstrap results. Since the distribution is easier to identify with more samples, our bootstrapped data has 1000 samples of replacements. The 95% CI is shaded blue in the plot, with the sample mean indicated as vertical red line. Our sample mean value of 0.06899849 represents the mean difference in proportion of crimes of Before and After COVID. The positive value sample mean indicates that there is an increase in crimes comparing \"After\" and \"Before\" crime rates. Negative value indicates the opposing result. However, as we could interpret from the distribution, there is only positive \"diff\" in crime rates from \"After\" and \"Before\". \n",
    "    \n",
    "    Before - After = +ve\n",
    "    \n",
    "Moreover, we have 95% confidence interval with lower CI of 0.0304651 and upper CI of 0.1075528. This implies 95% of our difference in proportion of \"Before\" and \"After\" lies between the lower and upper CI. Our data is 95% confident that there is a difference in proportion, hence we are 95% confident the crime rates decreased comparing \"Before\" and \"After\" COVID.\n",
    "\n",
    "We have calculated the p-value of 0.000439704868509851 from from calculating the proportions. The p-value tells us how likely our data could occur under our null hypothesis. Normally, a p-value of less than 0.05 is considered statistically significant, hence rejecting the null hypothesis. Since we have a much lower p-value than 0.05, we could have this as a statistical evidence to reject the null hypothesis.\n",
    "    \n",
    "Therefore, COVID 19 has not affected the proportion of financially motivated crimes in Vancouver to increase.\n",
    "    \n",
    "We had the research question from our personal experience of experiencing more frequent crimes during the pandemic. However, it turns out that statistically there is no increase in crime rates after the pandemic. The results were quite expected as we were expecting to see increased crimes after pandemic. \n",
    "\n",
    "    \n",
    "    \n",
    "    \n",
    "Possible limitations: \n",
    "- Even though we classifed ourselves \"Breaking and Entering\" and \"Theft\" to be financially motivated crimes, the dataset does not tell us whether they are truly motivated by financial extortion.\n",
    "- We are missing data from 2022 November to December as \"After\" COVID when we started this research. However, it could still be doubtful whether 2022 November and December data would have significant effect on our results. \n",
    "- The boundary between \"Before\" and \"After\" the pandemic could be vague. There is no specific date or time to diverge the period of the pandemic. When is the exact start and end for COVID? There were times when COVID was definitely more severe, and when the bad things were alleviated. But it is not easy to clearly differentiate the years as \"Before\" and \"After\" COVID.\n",
    "\n",
    "    \n",
    "Further questions:\n",
    "- Based on our possible limitations, we could focus more on crimes that involved financial activities to distinguish the real motive for the crimes. Perhaps, phishing scams, second-hand trading scams, or even financial fraud targetted to financially better off.\n",
    "- There could be a difference of crime rates where ecomonic downturn was harsher than Vancouver or not. Maybe the economic status could have been a more significant factor in handling the pandemic."
   ]
  },
  {
   "cell_type": "markdown",
   "id": "e5be7ed6",
   "metadata": {
    "tags": []
   },
   "source": [
    "# References:\n",
    "\n",
    "Ferguson, E. (2015). Crime and punishment vocabulary with pronunciation. IELTS Liz. Retrieved October 31, 2022, from https://ieltsliz.com/crime-and-punishment-vocabulary/ \n",
    "\n",
    "Munywoki, G. (2020). Economic effects of novel coronavirus (COVID – 19) on the global economy. SSRN Electronic Journal. https://doi.org/10.2139/ssrn.3719130 \n",
    "\n",
    "n.a. (n.d.). Crime Data Download. VPD open data. Retrieved October 31, 2022, from https://geodash.vpd.ca/opendata/ \n",
    "\n",
    "Nivette, A.E., Zahnow, R., Aguilar, R. et al. A global analysis of the impact of COVID-19 stay-at-home restrictions on crime. Nat Hum Behav 5, 868–877 (2021). https://doi.org/10.1038/s41562-021-01139-z"
   ]
  },
  {
   "cell_type": "code",
   "execution_count": null,
   "id": "374a905b-8d2a-4f00-8342-d8a9d41181d8",
   "metadata": {},
   "outputs": [],
   "source": []
  },
  {
   "cell_type": "code",
   "execution_count": null,
   "id": "21f73d47-7fa2-45d1-8170-9c49fefe6af2",
   "metadata": {},
   "outputs": [],
   "source": []
  }
 ],
 "metadata": {
  "kernelspec": {
   "display_name": "R",
   "language": "R",
   "name": "ir"
  },
  "language_info": {
   "codemirror_mode": "r",
   "file_extension": ".r",
   "mimetype": "text/x-r-source",
   "name": "R",
   "pygments_lexer": "r",
   "version": "4.3.3"
  }
 },
 "nbformat": 4,
 "nbformat_minor": 5
}
