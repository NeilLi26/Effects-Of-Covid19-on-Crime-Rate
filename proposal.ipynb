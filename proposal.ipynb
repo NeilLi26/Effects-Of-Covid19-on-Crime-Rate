{
 "cells": [
  {
   "cell_type": "markdown",
   "id": "e95edd7b-60f7-488c-b873-61ae0aa672c3",
   "metadata": {},
   "source": [
    "# The effects of COVID-19 on crime rates in Vancouver\n",
    "\n",
    "group project proposal:\n",
    "\n",
    "Sean Lee, Neil Li, Tracy Wang, Wendi Zhong"
   ]
  },
  {
   "cell_type": "markdown",
   "id": "7ca675ea-f966-404f-9707-8d1ad8058083",
   "metadata": {},
   "source": [
    "## Introduction\n",
    "\n",
    "Before the pandemic, our teammate Neil has experienced no crimes more major than perhaps public drunkeness, but once the pandemic started, he has been subjected to two different attempts of grand theft auto and one shooting. This can't help but make us wonder: is this simply a streak of bad luck or is there a genuine correlation between these crimes and the pandemic?\n",
    "\n",
    "Now this is not a completely unfounded idea, as although research has shown \n",
    "\n",
    "### Research Question:\n",
    "\n",
    "<b>Has Covid 19 affected the frequency and severity of Crimes?<b>"
   ]
  },
  {
   "cell_type": "code",
   "execution_count": null,
   "id": "6556ad96-c4ed-42ed-992b-a5a551c8abfd",
   "metadata": {},
   "outputs": [],
   "source": [
    "library(tidyverse)\n",
    "library(datateachr)\n",
    "library(repr)\n",
    "library(digest)\n",
    "library(infer)\n",
    "library(grid)"
   ]
  },
  {
   "cell_type": "markdown",
   "id": "c49f2e31-349f-48ad-ad32-7fdfd26f938d",
   "metadata": {},
   "source": [
    "## Dataset Info:\n",
    "\n",
    "The dataset is downloaded from \\\"[Vancouver Crime Data](https://geodash.vpd.ca/opendata/)\\\", an open data dataset provided by the Vancouver Police Department. Which we selected to list all the the crimes commited in every neighbourhood in Vancouver since 2003."
   ]
  },
  {
   "cell_type": "code",
   "execution_count": null,
   "id": "00cc68d0-9bf3-497c-9250-49377f179972",
   "metadata": {},
   "outputs": [],
   "source": [
    "crime_data <- read.csv(\"crimedata_csv_AllNeighbourhoods_AllYears.csv\")\n",
    "head(crime_data)"
   ]
  },
  {
   "cell_type": "markdown",
   "id": "7a75073b-f417-451c-b04a-ae7b0078ee90",
   "metadata": {},
   "source": [
    "Because we want to have the crime data be more representative of the difference between the years leading up to the pandemic to the years during and after the pandemic, we will filter the data to only include years from 2017 onwards, and before November since 2022 has not had a November yet. We will also only need the columns containing the type of the crime, year the crime was committed."
   ]
  },
  {
   "cell_type": "code",
   "execution_count": null,
   "id": "aa97a2f2-c80d-4a01-821e-ec10bc4f00fc",
   "metadata": {},
   "outputs": [],
   "source": [
    "crime_data_processed <- crime_data %>%\n",
    "    filter(YEAR >= 2017, MONTH <= 10) %>%\n",
    "    select(TYPE, YEAR)\n",
    "\n",
    "head(crime_data_processed)"
   ]
  },
  {
   "cell_type": "code",
   "execution_count": null,
   "id": "e41d0b33-8fb5-464c-8b8d-5c2c3d0f3574",
   "metadata": {},
   "outputs": [],
   "source": [
    "set.seed(2190)\n",
    "\n",
    "crime_sample <- crime_data_processed %>%\n",
    "    rep_sample_n(size = 5000, replace = FALSE) %>%\n",
    "    mutate(Pandemic = ifelse(YEAR < 2020, \"Before\", \"After\"))\n",
    "head(crime_sample)"
   ]
  },
  {
   "cell_type": "markdown",
   "id": "23b0eaed-fec3-45a3-9477-e735daa3ee19",
   "metadata": {},
   "source": [
    "We first decided to visualize the overall spread of crime over the six years by taking a sample of size 3000, and bootstrapping 1000 samples from it to see the overall"
   ]
  },
  {
   "cell_type": "code",
   "execution_count": null,
   "id": "7679f326-a009-4c43-9e1f-d328cbca79ff",
   "metadata": {},
   "outputs": [],
   "source": [
    "# create bootstrap samples of the difference in proportion of crimes commited before the pandemic \n",
    "# (YEAR < 2020), and obtain a 95% confidence interval from this\n",
    "set.seed(1234)\n",
    "sample <- crime_data_processed %>%\n",
    "    rep_sample_n(size = 3000)\n",
    "sample\n",
    "\n",
    "crime_sample %>%\n",
    "group_by(Pandemic) %>%\n",
    "summarize(n = n())\n"
   ]
  },
  {
   "cell_type": "markdown",
   "id": "e6179059-bb3d-4bea-91f1-51a4ceb6e4fa",
   "metadata": {},
   "source": [
    "Because this is a large dataset, we have the luxury of creating many large samples, and with those large samples we could apply the central limit theorem to get more crucial data."
   ]
  },
  {
   "cell_type": "code",
   "execution_count": null,
   "id": "9456f56a-7ffc-4766-8196-9623ddfcfb00",
   "metadata": {
    "tags": []
   },
   "outputs": [],
   "source": [
    "# calculate mean and standard deviation on the difference between the total amount of crime before and after the pandemic using the central limit theorem and obtain a 95% confidence interval from this"
   ]
  },
  {
   "cell_type": "markdown",
   "id": "2607de76-c1c0-430c-a7b1-25d88d0c0717",
   "metadata": {},
   "source": [
    "## Methods\n"
   ]
  },
  {
   "cell_type": "markdown",
   "id": "db8864b2-30d1-465c-8026-c26c3aa16c41",
   "metadata": {},
   "source": [
    "mention our plans for hypothesis testing, and future plans to test how different kinds of crimes have been affected."
   ]
  },
  {
   "cell_type": "code",
   "execution_count": null,
   "id": "2c2dd272-8007-41ae-86ad-caf4442fc335",
   "metadata": {},
   "outputs": [],
   "source": []
  },
  {
   "cell_type": "markdown",
   "id": "efa7e9df-3253-43e8-b8a9-410651a714b9",
   "metadata": {
    "tags": []
   },
   "source": [
    "# References:\n",
    "\n",
    "Ferguson, E. (2015). Crime and punishment vocabulary with pronunciation. IELTS Liz. Retrieved October 31, 2022, from https://ieltsliz.com/crime-and-punishment-vocabulary/ \n",
    "\n",
    "n.a. (n.d.). Crime Data Download. VPD open data. Retrieved October 31, 2022, from https://geodash.vpd.ca/opendata/ \n",
    "\n",
    "Nivette, A.E., Zahnow, R., Aguilar, R. et al. A global analysis of the impact of COVID-19 stay-at-home restrictions on crime. Nat Hum Behav 5, 868–877 (2021). https://doi.org/10.1038/s41562-021-01139-z"
   ]
  }
 ],
 "metadata": {
  "kernelspec": {
   "display_name": "R",
   "language": "R",
   "name": "ir"
  },
  "language_info": {
   "codemirror_mode": "r",
   "file_extension": ".r",
   "mimetype": "text/x-r-source",
   "name": "R",
   "pygments_lexer": "r",
   "version": "4.1.3"
  }
 },
 "nbformat": 4,
 "nbformat_minor": 5
}
