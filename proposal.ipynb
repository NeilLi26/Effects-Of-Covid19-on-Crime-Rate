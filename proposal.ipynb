{
 "cells": [
  {
   "cell_type": "markdown",
   "id": "d00bd42c",
   "metadata": {},
   "source": [
    "# The effects of COVID-19 on crime rates in Vancouver\n",
    "\n",
    "group project proposal:\n",
    "\n",
    "Sean Lee, Neil Li, Tracy Wang, Wendi Zhong"
   ]
  },
  {
   "cell_type": "markdown",
   "id": "dd69795b",
   "metadata": {},
   "source": [
    "## Introduction\n",
    "\n",
    "Before the pandemic, our teammate Neil has experienced no crimes more major than perhaps public drunkeness, but once the pandemic started, he has been subjected to two different attempts of grand theft auto and one shooting. This can't help but make us wonder: is this simply a streak of bad luck or is there a genuine correlation between these crimes and the pandemic?\n",
    "\n",
    "Now there are two ways to looking at this idea, as research (Nivette et. al., 2021) has shown that crime rate decreases due to lockdowns forcing people to stay in their homes, there are also arguments to be had about how the economic downturn (Munywoki, 2020) could lead more people into commiting crimes. So there are arguments for the pandemic leading people into commiting simultaneously less and more crimes.\n",
    "\n",
    "### Research Question:\n",
    "\n",
    "<b>Has Covid 19 affected the frequency and severity of Crimes?<b>\n",
    "    \n",
    "### Hypothesis:\n",
    "\n",
    "$H_0: \\mu_1 - \\mu_2 = 0$ vs $H_1: \\mu_1 - \\mu_2 \\neq 0$\n",
    "    \n",
    "$\\mu_1$: the average total crimes commited before the outbreak\n",
    "    \n",
    "$\\mu_2$: the average total crimes commited after the outbreak"
   ]
  },
  {
   "cell_type": "code",
   "execution_count": null,
   "id": "5667a216",
   "metadata": {},
   "outputs": [],
   "source": [
    "library(tidyverse)\n",
    "library(datateachr)\n",
    "library(repr)\n",
    "library(digest)\n",
    "library(infer)\n",
    "library(grid)"
   ]
  },
  {
   "cell_type": "markdown",
   "id": "539345c5",
   "metadata": {},
   "source": [
    "## Dataset Info:\n",
    "\n",
    "The dataset is downloaded from \\\"[Vancouver Crime Data](https://geodash.vpd.ca/opendata/)\\\", an open data dataset provided by the Vancouver Police Department. Which we selected to list all the the crimes commited in every neighbourhood in Vancouver since 2003."
   ]
  },
  {
   "cell_type": "code",
   "execution_count": null,
   "id": "45a67d51",
   "metadata": {},
   "outputs": [],
   "source": [
    "crime_data <- read.csv(\"crimedata_csv_AllNeighbourhoods_AllYears.csv\")\n",
    "head(crime_data)"
   ]
  },
  {
   "cell_type": "markdown",
   "id": "b4a6b26d",
   "metadata": {},
   "source": [
    "Because we want to have the crime data be more representative of the difference between the years leading up to the pandemic to the years during and after the pandemic, we will filter the data to only include years from 2017 onwards, and before November since 2022 has not had a November yet. We will also only need the columns containing the type of the crime, year the crime was committed."
   ]
  },
  {
   "cell_type": "code",
   "execution_count": null,
   "id": "4827088f",
   "metadata": {},
   "outputs": [],
   "source": [
    "crime_data_processed <- crime_data %>%\n",
    "    filter(YEAR >= 2017, MONTH <= 10) %>%\n",
    "    select(TYPE, YEAR)\n",
    "\n",
    "head(crime_data_processed)"
   ]
  },
  {
   "cell_type": "code",
   "execution_count": null,
   "id": "91a5f070",
   "metadata": {},
   "outputs": [],
   "source": [
    "# take a single sample with size 2000 from population\n",
    "\n",
    "set.seed(2190)\n",
    "\n",
    "crime_sample <- crime_data_processed %>%\n",
    "    rep_sample_n(size = 2000, replace = FALSE) %>%\n",
    "    mutate(Pandemic = ifelse(YEAR < 2020, \"Before\", \"After\"))\n",
    "head(crime_sample)"
   ]
  },
  {
   "cell_type": "markdown",
   "id": "b5ab88cb",
   "metadata": {},
   "source": [
    "We first decided to visualize the overall spread of crime over the six years by taking a sample of size 2000, and bootstrapping 1000 samples from it to see the overall"
   ]
  },
  {
   "cell_type": "code",
   "execution_count": null,
   "id": "9ccac60f",
   "metadata": {},
   "outputs": [],
   "source": [
    "# create 1000 bootstrap samples with size 2000 of the difference in crimes commited before the pandemic \n",
    "# (YEAR < 2020) \n",
    "\n",
    "set.seed(2190)\n",
    "bootstrap_sample <- crime_sample %>%\n",
    "    rep_sample_n(size = 2000, reps = 1000, replace = TRUE)%>%\n",
    "    group_by(replicate,Pandemic)%>%\n",
    "    summarize(n = n())%>%\n",
    "    pivot_wider(names_from = Pandemic, values_from = n) %>%\n",
    "    mutate(diff = Before - After) \n",
    "    \n",
    "head(bootstrap_sample)\n",
    "\n"
   ]
  },
  {
   "cell_type": "code",
   "execution_count": null,
   "id": "e4cabb4e-2c2f-4df7-bb78-18ee617314ef",
   "metadata": {},
   "outputs": [],
   "source": [
    "#Visualize the bootstrap distribution\n",
    "bootstrap_sampling_distribution <- bootstrap_sample%>%\n",
    "    ggplot(aes(x = diff)) +\n",
    "    geom_histogram(binwidth = 10) +\n",
    "    xlab(\"Difference in Crimes Commited before and after Pandemic\") +\n",
    "    ggtitle(\"Bootstrap Sampling Distribution\")\n",
    "\n",
    "bootstrap_sampling_distribution"
   ]
  },
  {
   "cell_type": "code",
   "execution_count": null,
   "id": "ebb3aad3-87d0-4600-8a4d-b3cbb97ce77c",
   "metadata": {},
   "outputs": [],
   "source": [
    "#obtain 95% confidence interval \n",
    "ci <- bootstrap_sample %>%\n",
    "    get_ci(level = 0.95, type = \"percentile\")\n",
    "ci"
   ]
  },
  {
   "cell_type": "markdown",
   "id": "28e6b404",
   "metadata": {},
   "source": [
    "Because this is a large dataset, we have the luxury of creating many large samples, and with those large samples we could apply the central limit theorem to get more crucial data."
   ]
  },
  {
   "cell_type": "code",
   "execution_count": null,
   "id": "1c8cbbc1-1448-4002-b504-4074126191b4",
   "metadata": {},
   "outputs": [],
   "source": [
    "#Visualize the bootstrap distribution with 95% confidence interval\n",
    "\n",
    "ci_plot <- bootstrap_sample%>%\n",
    "    ggplot(aes(x = diff)) +\n",
    "    geom_histogram (binwidth = 10, colour = \"white\", fill = \"grey\") +\n",
    "    annotate(\"rect\", xmin = ci$lower_ci, xmax = ci$upper_ci, ymin = 0, ymax = Inf,\n",
    "             fill = \"deepskyblue\",\n",
    "             alpha = 0.3) +\n",
    "    xlab(\"Difference in Crime Commited Before and After Pandemic\")+\n",
    "    ggtitle(\"Bootstrap Distribution with 95% Confidence Interval\")\n",
    "ci_plot"
   ]
  },
  {
   "cell_type": "code",
   "execution_count": null,
   "id": "2c4e02f6",
   "metadata": {
    "tags": []
   },
   "outputs": [],
   "source": [
    "# calculate mean and standard deviation on the difference between the total amount of crime before and after the \n",
    "# pandemic using the central limit theorem and obtain a 95% confidence interval from this"
   ]
  },
  {
   "cell_type": "markdown",
   "id": "1533f205",
   "metadata": {},
   "source": [
    "## Methods\n"
   ]
  },
  {
   "cell_type": "markdown",
   "id": "2fd648a0",
   "metadata": {},
   "source": [
    "mention our plans for hypothesis testing, and future plans to test how different kinds of crimes have been affected."
   ]
  },
  {
   "cell_type": "markdown",
   "id": "e5be7ed6",
   "metadata": {
    "tags": []
   },
   "source": [
    "# References:\n",
    "\n",
    "Ferguson, E. (2015). Crime and punishment vocabulary with pronunciation. IELTS Liz. Retrieved October 31, 2022, from https://ieltsliz.com/crime-and-punishment-vocabulary/ \n",
    "\n",
    "Munywoki, G. (2020). Economic effects of novel coronavirus (COVID – 19) on the global economy. SSRN Electronic Journal. https://doi.org/10.2139/ssrn.3719130 \n",
    "\n",
    "n.a. (n.d.). Crime Data Download. VPD open data. Retrieved October 31, 2022, from https://geodash.vpd.ca/opendata/ \n",
    "\n",
    "Nivette, A.E., Zahnow, R., Aguilar, R. et al. A global analysis of the impact of COVID-19 stay-at-home restrictions on crime. Nat Hum Behav 5, 868–877 (2021). https://doi.org/10.1038/s41562-021-01139-z"
   ]
  }
 ],
 "metadata": {
  "kernelspec": {
   "display_name": "R",
   "language": "R",
   "name": "ir"
  },
  "language_info": {
   "codemirror_mode": "r",
   "file_extension": ".r",
   "mimetype": "text/x-r-source",
   "name": "R",
   "pygments_lexer": "r",
   "version": "4.1.3"
  }
 },
 "nbformat": 4,
 "nbformat_minor": 5
}
