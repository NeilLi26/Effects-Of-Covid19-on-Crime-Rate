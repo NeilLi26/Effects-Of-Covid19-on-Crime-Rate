{
 "cells": [
  {
   "cell_type": "markdown",
   "id": "d00bd42c",
   "metadata": {},
   "source": [
    "# The effects of COVID-19 on crime rates in Vancouver\n",
    "\n",
    "group project proposal:\n",
    "\n",
    "Sean Lee, Neil Li, Tracy Wang, Wendi Zhong"
   ]
  },
  {
   "cell_type": "markdown",
   "id": "dd69795b",
   "metadata": {},
   "source": [
    "## Introduction\n",
    "\n",
    "Before the pandemic, our teammate Neil has experienced no crimes more major than perhaps public drunkeness, but once the pandemic started, he has been subjected to two different attempts of grand theft auto and one shooting. This can't help but make us wonder: is this simply a streak of bad luck or is this the result of the pandemic?\n",
    "\n",
    "But it wasn't so simple, as research (Nivette et. al., 2021) has shown that crime rate decreases due to lockdowns forcing people to stay in their homes, there are also arguments to be had about how the economic downturn (Munywoki, 2020) could lead more people into commiting crimes. So there are arguments for the pandemic leading people into commiting simultaneously less and more crimes.\n",
    "\n",
    "### Research Question:\n",
    "\n",
    "<b>Has Covid 19 affected the amount of crimes in Vancouver?<b>"
   ]
  },
  {
   "cell_type": "code",
   "execution_count": 4,
   "id": "5667a216",
   "metadata": {},
   "outputs": [
    {
     "name": "stderr",
     "output_type": "stream",
     "text": [
      "\n",
      "Attaching package: ‘RCurl’\n",
      "\n",
      "\n",
      "The following object is masked from ‘package:tidyr’:\n",
      "\n",
      "    complete\n",
      "\n",
      "\n"
     ]
    }
   ],
   "source": [
    "library(tidyverse)\n",
    "library(datateachr)\n",
    "library(repr)\n",
    "library(digest)\n",
    "library(infer)\n",
    "library(grid)\n",
    "library(RCurl)"
   ]
  },
  {
   "cell_type": "markdown",
   "id": "539345c5",
   "metadata": {},
   "source": [
    "## Dataset Info:\n",
    "\n",
    "The dataset is downloaded from \\\"[Vancouver Crime Data](https://geodash.vpd.ca/opendata/)\\\", an open data dataset provided by the Vancouver Police Department. Which we selected to list all the the crimes recorded in every neighbourhood in Vancouver since 2003. The dataset (Vancouver Crime Data) of specific crimes is directly downloaded from the Vancouver Police Department. We are confident that the dataset is trustworthy and representative with no bias in the data; even if there could still be unreported crimes."
   ]
  },
  {
   "cell_type": "code",
   "execution_count": 7,
   "id": "45a67d51",
   "metadata": {},
   "outputs": [
    {
     "data": {
      "text/html": [
       "<table class=\"dataframe\">\n",
       "<caption>A data.frame: 6 × 10</caption>\n",
       "<thead>\n",
       "\t<tr><th></th><th scope=col>TYPE</th><th scope=col>YEAR</th><th scope=col>MONTH</th><th scope=col>DAY</th><th scope=col>HOUR</th><th scope=col>MINUTE</th><th scope=col>HUNDRED_BLOCK</th><th scope=col>NEIGHBOURHOOD</th><th scope=col>X</th><th scope=col>Y</th></tr>\n",
       "\t<tr><th></th><th scope=col>&lt;chr&gt;</th><th scope=col>&lt;int&gt;</th><th scope=col>&lt;int&gt;</th><th scope=col>&lt;int&gt;</th><th scope=col>&lt;int&gt;</th><th scope=col>&lt;int&gt;</th><th scope=col>&lt;chr&gt;</th><th scope=col>&lt;chr&gt;</th><th scope=col>&lt;dbl&gt;</th><th scope=col>&lt;dbl&gt;</th></tr>\n",
       "</thead>\n",
       "<tbody>\n",
       "\t<tr><th scope=row>1</th><td>Break and Enter Commercial</td><td>2012</td><td>12</td><td>14</td><td> 8</td><td>52</td><td>               </td><td>Oakridge</td><td>491285.0</td><td>5453433</td></tr>\n",
       "\t<tr><th scope=row>2</th><td>Break and Enter Commercial</td><td>2019</td><td> 3</td><td> 7</td><td> 2</td><td> 6</td><td>10XX SITKA SQ  </td><td>Fairview</td><td>490613.0</td><td>5457110</td></tr>\n",
       "\t<tr><th scope=row>3</th><td>Break and Enter Commercial</td><td>2019</td><td> 8</td><td>27</td><td> 4</td><td>12</td><td>10XX ALBERNI ST</td><td>West End</td><td>491007.8</td><td>5459174</td></tr>\n",
       "\t<tr><th scope=row>4</th><td>Break and Enter Commercial</td><td>2021</td><td> 4</td><td>26</td><td> 4</td><td>44</td><td>10XX ALBERNI ST</td><td>West End</td><td>491007.8</td><td>5459174</td></tr>\n",
       "\t<tr><th scope=row>5</th><td>Break and Enter Commercial</td><td>2014</td><td> 8</td><td> 8</td><td> 5</td><td>13</td><td>10XX ALBERNI ST</td><td>West End</td><td>491015.9</td><td>5459166</td></tr>\n",
       "\t<tr><th scope=row>6</th><td>Break and Enter Commercial</td><td>2020</td><td> 7</td><td>28</td><td>19</td><td>12</td><td>10XX ALBERNI ST</td><td>West End</td><td>491015.9</td><td>5459166</td></tr>\n",
       "</tbody>\n",
       "</table>\n"
      ],
      "text/latex": [
       "A data.frame: 6 × 10\n",
       "\\begin{tabular}{r|llllllllll}\n",
       "  & TYPE & YEAR & MONTH & DAY & HOUR & MINUTE & HUNDRED\\_BLOCK & NEIGHBOURHOOD & X & Y\\\\\n",
       "  & <chr> & <int> & <int> & <int> & <int> & <int> & <chr> & <chr> & <dbl> & <dbl>\\\\\n",
       "\\hline\n",
       "\t1 & Break and Enter Commercial & 2012 & 12 & 14 &  8 & 52 &                 & Oakridge & 491285.0 & 5453433\\\\\n",
       "\t2 & Break and Enter Commercial & 2019 &  3 &  7 &  2 &  6 & 10XX SITKA SQ   & Fairview & 490613.0 & 5457110\\\\\n",
       "\t3 & Break and Enter Commercial & 2019 &  8 & 27 &  4 & 12 & 10XX ALBERNI ST & West End & 491007.8 & 5459174\\\\\n",
       "\t4 & Break and Enter Commercial & 2021 &  4 & 26 &  4 & 44 & 10XX ALBERNI ST & West End & 491007.8 & 5459174\\\\\n",
       "\t5 & Break and Enter Commercial & 2014 &  8 &  8 &  5 & 13 & 10XX ALBERNI ST & West End & 491015.9 & 5459166\\\\\n",
       "\t6 & Break and Enter Commercial & 2020 &  7 & 28 & 19 & 12 & 10XX ALBERNI ST & West End & 491015.9 & 5459166\\\\\n",
       "\\end{tabular}\n"
      ],
      "text/markdown": [
       "\n",
       "A data.frame: 6 × 10\n",
       "\n",
       "| <!--/--> | TYPE &lt;chr&gt; | YEAR &lt;int&gt; | MONTH &lt;int&gt; | DAY &lt;int&gt; | HOUR &lt;int&gt; | MINUTE &lt;int&gt; | HUNDRED_BLOCK &lt;chr&gt; | NEIGHBOURHOOD &lt;chr&gt; | X &lt;dbl&gt; | Y &lt;dbl&gt; |\n",
       "|---|---|---|---|---|---|---|---|---|---|---|\n",
       "| 1 | Break and Enter Commercial | 2012 | 12 | 14 |  8 | 52 | <!----> | Oakridge | 491285.0 | 5453433 |\n",
       "| 2 | Break and Enter Commercial | 2019 |  3 |  7 |  2 |  6 | 10XX SITKA SQ   | Fairview | 490613.0 | 5457110 |\n",
       "| 3 | Break and Enter Commercial | 2019 |  8 | 27 |  4 | 12 | 10XX ALBERNI ST | West End | 491007.8 | 5459174 |\n",
       "| 4 | Break and Enter Commercial | 2021 |  4 | 26 |  4 | 44 | 10XX ALBERNI ST | West End | 491007.8 | 5459174 |\n",
       "| 5 | Break and Enter Commercial | 2014 |  8 |  8 |  5 | 13 | 10XX ALBERNI ST | West End | 491015.9 | 5459166 |\n",
       "| 6 | Break and Enter Commercial | 2020 |  7 | 28 | 19 | 12 | 10XX ALBERNI ST | West End | 491015.9 | 5459166 |\n",
       "\n"
      ],
      "text/plain": [
       "  TYPE                       YEAR MONTH DAY HOUR MINUTE HUNDRED_BLOCK  \n",
       "1 Break and Enter Commercial 2012 12    14   8   52                    \n",
       "2 Break and Enter Commercial 2019  3     7   2    6     10XX SITKA SQ  \n",
       "3 Break and Enter Commercial 2019  8    27   4   12     10XX ALBERNI ST\n",
       "4 Break and Enter Commercial 2021  4    26   4   44     10XX ALBERNI ST\n",
       "5 Break and Enter Commercial 2014  8     8   5   13     10XX ALBERNI ST\n",
       "6 Break and Enter Commercial 2020  7    28  19   12     10XX ALBERNI ST\n",
       "  NEIGHBOURHOOD X        Y      \n",
       "1 Oakridge      491285.0 5453433\n",
       "2 Fairview      490613.0 5457110\n",
       "3 West End      491007.8 5459174\n",
       "4 West End      491007.8 5459174\n",
       "5 West End      491015.9 5459166\n",
       "6 West End      491015.9 5459166"
      ]
     },
     "metadata": {},
     "output_type": "display_data"
    }
   ],
   "source": [
    "crimes_url <- \"https://raw.githubusercontent.com/NeilLi26/STAT201-project/main/crimedata_csv_AllNeighbourhoods_AllYears.csv\"\n",
    "crime_data <- read.csv(crimes_url)\n",
    "head(crime_data)"
   ]
  },
  {
   "cell_type": "markdown",
   "id": "b4a6b26d",
   "metadata": {},
   "source": [
    "Because we want to have the crime data be more representative of the difference between the years leading up to the pandemic to the years during and after the pandemic, we will filter the data to only include years from 2017 onwards, and before November since 2022 has not had a November yet. We will also only need the columns containing the type of the crime, year the crime was committed."
   ]
  },
  {
   "cell_type": "code",
   "execution_count": null,
   "id": "4827088f",
   "metadata": {},
   "outputs": [],
   "source": [
    "crime_data_processed <- crime_data %>%\n",
    "    filter(YEAR >= 2017, MONTH <= 10) %>%\n",
    "    select(TYPE, YEAR)\n",
    "\n",
    "head(crime_data_processed)"
   ]
  },
  {
   "cell_type": "code",
   "execution_count": null,
   "id": "91a5f070",
   "metadata": {},
   "outputs": [],
   "source": [
    "# take a single sample with size 2000 from population\n",
    "\n",
    "set.seed(2190)\n",
    "\n",
    "crime_sample <- crime_data_processed %>%\n",
    "    rep_sample_n(size = 2000, replace = FALSE) %>%\n",
    "    mutate(Pandemic = ifelse(YEAR < 2020, \"Before\", \"After\"))\n",
    "head(crime_sample)"
   ]
  },
  {
   "cell_type": "markdown",
   "id": "b5ab88cb",
   "metadata": {},
   "source": [
    "We first decided to visualize the overall spread of crime over the six years by taking a sample of size 2000, and bootstrapping 1000 samples from it to see the overall"
   ]
  },
  {
   "cell_type": "code",
   "execution_count": null,
   "id": "9ccac60f",
   "metadata": {},
   "outputs": [],
   "source": [
    "# create 1000 bootstrap samples with size 2000 of the difference in crimes commited before the pandemic \n",
    "# (YEAR < 2020) \n",
    "\n",
    "set.seed(2190)\n",
    "bootstrap_sample <- crime_sample %>%\n",
    "    rep_sample_n(size = 2000, reps = 1000, replace = TRUE)%>%\n",
    "    group_by(replicate,Pandemic)%>%\n",
    "    summarize(n = n())%>%\n",
    "    pivot_wider(names_from = Pandemic, values_from = n) %>%\n",
    "    mutate(diff = Before - After) \n",
    "    \n",
    "head(bootstrap_sample)\n",
    "\n",
    "# calculate the mean of difference in crimes commited\n",
    "sample_mean <- mean(bootstrap_sample$diff)\n",
    "sample_mean"
   ]
  },
  {
   "cell_type": "code",
   "execution_count": null,
   "id": "e4cabb4e-2c2f-4df7-bb78-18ee617314ef",
   "metadata": {},
   "outputs": [],
   "source": [
    "#Visualize the bootstrap distribution\n",
    "bootstrap_sampling_distribution <- bootstrap_sample%>%\n",
    "    ggplot(aes(x = diff)) +\n",
    "    geom_histogram(binwidth = 10) +\n",
    "    xlab(\"Difference in Crimes Commited before and after Pandemic\") +\n",
    "    ggtitle(\"Bootstrap Sampling Distribution\") \n",
    "    \n",
    "\n",
    "bootstrap_sampling_distribution\n",
    "\n"
   ]
  },
  {
   "cell_type": "code",
   "execution_count": null,
   "id": "ebb3aad3-87d0-4600-8a4d-b3cbb97ce77c",
   "metadata": {},
   "outputs": [],
   "source": [
    "#obtain 95% confidence interval \n",
    "ci <- bootstrap_sample %>%\n",
    "    get_ci(level = 0.95, type = \"percentile\")\n",
    "ci"
   ]
  },
  {
   "cell_type": "markdown",
   "id": "28e6b404",
   "metadata": {},
   "source": [
    "Because this is a large dataset, we have the luxury of creating many large samples, and with those large samples we could apply the central limit theorem to get more crucial data."
   ]
  },
  {
   "cell_type": "code",
   "execution_count": null,
   "id": "1c8cbbc1-1448-4002-b504-4074126191b4",
   "metadata": {},
   "outputs": [],
   "source": [
    "#Visualize the bootstrap distribution with 95% confidence interval\n",
    "\n",
    "ci_plot <- bootstrap_sample%>%\n",
    "    ggplot(aes(x = diff)) +\n",
    "    geom_histogram (binwidth = 10, colour = \"white\", fill = \"grey\") +\n",
    "    annotate(\"rect\", xmin = ci$lower_ci, xmax = ci$upper_ci, ymin = 0, ymax = Inf,\n",
    "             fill = \"deepskyblue\",\n",
    "             alpha = 0.3) +\n",
    "    xlab(\"Difference in Crime Commited Before and After Pandemic\")+\n",
    "    ggtitle(\"Bootstrap Distribution with 95% Confidence Interval\") +\n",
    "    geom_vline(aes(xintercept= sample_mean), colour = \"red\")\n",
    "ci_plot"
   ]
  },
  {
   "cell_type": "code",
   "execution_count": null,
   "id": "2c4e02f6",
   "metadata": {
    "tags": []
   },
   "outputs": [],
   "source": [
    "# calculate mean and standard deviation on the difference between the total amount of \n",
    "# crime before and after the pandemic using the central limit theorem and obtain a 95% \n",
    "# confidence interval from this"
   ]
  },
  {
   "cell_type": "code",
   "execution_count": null,
   "id": "c903b9d0-58e5-48d9-b620-58f7f0cdaa25",
   "metadata": {},
   "outputs": [],
   "source": [
    "# take 1000 single sample with size 2000 from population\n",
    "\n",
    "set.seed(2190)\n",
    "\n",
    "samples_CLT <- crime_data_processed %>%\n",
    "    rep_sample_n(size = 2000, reps = 1000, replace = FALSE) %>%\n",
    "    mutate(Pandemic = ifelse(YEAR < 2020, \"Before\", \"After\"))\n",
    "\n",
    "head(samples_CLT)"
   ]
  },
  {
   "cell_type": "code",
   "execution_count": null,
   "id": "2fb4e5fc-e6ca-4ba0-8c59-6213e7a09929",
   "metadata": {},
   "outputs": [],
   "source": [
    "# calculate difference of crimes before and after 2020\n",
    "\n",
    "diff_sampling_dist_CLT <- \n",
    "samples_CLT %>%\n",
    "    group_by(replicate , Pandemic)%>%\n",
    "    summarize(n = n()) %>%\n",
    "    pivot_wider(names_from = Pandemic, values_from = n) %>%\n",
    "    mutate(diff = Before - After) \n",
    "\n",
    "head(diff_sampling_dist_CLT)"
   ]
  },
  {
   "cell_type": "code",
   "execution_count": null,
   "id": "ba147ff5-e713-4144-941f-74729b4c671e",
   "metadata": {},
   "outputs": [],
   "source": [
    "# Visualize size 2000 sampling distribution\n",
    "\n",
    "diff_sampling_dist_plot_CLT <- \n",
    "diff_sampling_dist_CLT %>%\n",
    "   ggplot(aes(x = diff)) +\n",
    "   geom_histogram(bins = 20, color = 'white') +\n",
    "   ggtitle(\"Sampling Distribution of Difference of Crimes Before and After Covid\") +\n",
    "   xlab(\"Difference of Crimes Before and After Covid\") +\n",
    "   theme(text = element_text(size = 14))\n",
    "\n",
    "diff_sampling_dist_plot_CLT"
   ]
  },
  {
   "cell_type": "code",
   "execution_count": null,
   "id": "c6653587-f34b-431b-ba83-74300089fd13",
   "metadata": {},
   "outputs": [],
   "source": [
    "# Get mean of sampling distribution\n",
    "mean_CLT <- mean(diff_sampling_dist_CLT$diff)\n",
    "mean_CLT"
   ]
  },
  {
   "cell_type": "code",
   "execution_count": null,
   "id": "0a97a1c3-2774-4514-ab57-fbf0c706455a",
   "metadata": {},
   "outputs": [],
   "source": [
    "# Get 95% confidence interval\n",
    "ci_CLT <- diff_sampling_dist_CLT %>%\n",
    "            get_confidence_interval(type = \"percentile\", level = 0.95)\n",
    "ci_CLT"
   ]
  },
  {
   "cell_type": "code",
   "execution_count": null,
   "id": "18371f2e-67e2-47b8-9380-749ed705f781",
   "metadata": {},
   "outputs": [],
   "source": [
    "# lab mean on the sampling distribution\n",
    "# shade 95% confidence interval on the sampling distribution\n",
    "\n",
    "sample_quantile_plot <- \n",
    "    diff_sampling_dist_CLT %>% \n",
    "      ggplot(aes(x = diff)) +\n",
    "      geom_histogram(bins = 25, color = 'white') +\n",
    "      geom_vline(xintercept = mean_CLT, colour = \"red\", size = 1) +\n",
    "      annotate(\"rect\", \n",
    "              xmin = ci_CLT$lower_ci,\n",
    "              xmax = ci_CLT$upper_ci,\n",
    "              ymin = 0,\n",
    "              ymax = Inf,\n",
    "              fill = \"deepskyblue\",\n",
    "              alpha = 0.3) +\n",
    "      ggtitle(\"Sampling Distribution of Difference of Crimes Before and After Covid\") +\n",
    "      xlab(\"Difference of Crimes Before and After Covid\") +\n",
    "      theme(text = element_text(size = 14))\n",
    "\n",
    "sample_quantile_plot"
   ]
  },
  {
   "cell_type": "markdown",
   "id": "3cd96f2f-d7b2-475d-8a39-7cc869b11c52",
   "metadata": {
    "tags": []
   },
   "source": [
    "## Methods: Plan"
   ]
  },
  {
   "cell_type": "markdown",
   "id": "48ebe4b4-62d2-430e-b799-6c438585f6f9",
   "metadata": {},
   "source": [
    "To statistically investigate on the difference in crime rate before and after pandemic, we first made hypothesis.\n",
    "Our null hypothesis states there would be no difference in number of crimes before and after pandemic, while alternate hypothesis states there is a difference.\n",
    "\n",
    "### Hypothesis:\n",
    "\n",
    "$H_0: \\mu_1 - \\mu_2 = 0$ vs $H_1: \\mu_1 - \\mu_2 \\neq 0$\n",
    "    \n",
    "$\\mu_1$: the average total crimes commited before the outbreak\n",
    "    \n",
    "$\\mu_2$: the average total crimes commited after the outbreak\n",
    "\n",
    "By comparing the distribution plots from bootstrapping and CLT, they are both unimodal and symetric. We also shaded the 95% confidence interval and indicated the mean with the red vertical line. In both processes, we used 95% confidence interval. It is for us to say we would be 95% certain that the distribution would contain the true mean. We have high confidence with the samples we generated, as their large sample sizes give us a narrower distribution.\n",
    "\n",
    "With the two preliminary distributions we've created, we could expect to reject the null hypothesis as the difference in $\\mu_1$ and $\\mu_2$ would not be 0. We hope to see more statistical evidence to reject the null hypothesis and adopt the alternate hypothesis. This is highly valuable information as it it provides some insight on the social consequences of the pandemic. Further research could be done to see how different kinds of crimes are affected by the pandemic."
   ]
  },
  {
   "cell_type": "markdown",
   "id": "e5be7ed6",
   "metadata": {
    "tags": []
   },
   "source": [
    "# References:\n",
    "\n",
    "Ferguson, E. (2015). Crime and punishment vocabulary with pronunciation. IELTS Liz. Retrieved October 31, 2022, from https://ieltsliz.com/crime-and-punishment-vocabulary/ \n",
    "\n",
    "Munywoki, G. (2020). Economic effects of novel coronavirus (COVID – 19) on the global economy. SSRN Electronic Journal. https://doi.org/10.2139/ssrn.3719130 \n",
    "\n",
    "n.a. (n.d.). Crime Data Download. VPD open data. Retrieved October 31, 2022, from https://geodash.vpd.ca/opendata/ \n",
    "\n",
    "Nivette, A.E., Zahnow, R., Aguilar, R. et al. A global analysis of the impact of COVID-19 stay-at-home restrictions on crime. Nat Hum Behav 5, 868–877 (2021). https://doi.org/10.1038/s41562-021-01139-z"
   ]
  }
 ],
 "metadata": {
  "kernelspec": {
   "display_name": "R",
   "language": "R",
   "name": "ir"
  },
  "language_info": {
   "codemirror_mode": "r",
   "file_extension": ".r",
   "mimetype": "text/x-r-source",
   "name": "R",
   "pygments_lexer": "r",
   "version": "4.1.3"
  }
 },
 "nbformat": 4,
 "nbformat_minor": 5
}
