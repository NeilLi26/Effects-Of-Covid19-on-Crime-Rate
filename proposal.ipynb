{
 "cells": [
  {
   "cell_type": "markdown",
   "id": "e95edd7b-60f7-488c-b873-61ae0aa672c3",
   "metadata": {},
   "source": [
    "# The effects of COVID-19 on crime rates in Vancouver\n",
    "\n",
    "group project proposal:\n",
    "\n",
    "Neil Li, Tracy Wang, Wendi Zhong"
   ]
  },
  {
   "cell_type": "markdown",
   "id": "7ca675ea-f966-404f-9707-8d1ad8058083",
   "metadata": {},
   "source": [
    "## Introduction\n",
    "\n",
    "Before the pandemic, our teammate Neil has experienced no crimes more major than perhaps public drunkeness, but once the pandemic started, he has been subjected to two different attempts of grand theft auto and one shooting. This can't help but make us wonder: is this simply a streak of bad luck or is there a genuine correlation between these crimes and the pandemic?\n",
    "\n",
    "Now this is not a completely unfounded idea, as although research has shown \n",
    "\n",
    "### Research Question:\n",
    "\n",
    "<b>Has Covid 19 affected the frequency and severity of Crimes?<b>"
   ]
  },
  {
   "cell_type": "code",
   "execution_count": 1,
   "id": "6556ad96-c4ed-42ed-992b-a5a551c8abfd",
   "metadata": {},
   "outputs": [
    {
     "name": "stderr",
     "output_type": "stream",
     "text": [
      "── \u001b[1mAttaching packages\u001b[22m ─────────────────────────────────────── tidyverse 1.3.2 ──\n",
      "\u001b[32m✔\u001b[39m \u001b[34mggplot2\u001b[39m 3.3.6      \u001b[32m✔\u001b[39m \u001b[34mpurrr  \u001b[39m 0.3.4 \n",
      "\u001b[32m✔\u001b[39m \u001b[34mtibble \u001b[39m 3.1.8      \u001b[32m✔\u001b[39m \u001b[34mdplyr  \u001b[39m 1.0.10\n",
      "\u001b[32m✔\u001b[39m \u001b[34mtidyr  \u001b[39m 1.2.1      \u001b[32m✔\u001b[39m \u001b[34mstringr\u001b[39m 1.4.1 \n",
      "\u001b[32m✔\u001b[39m \u001b[34mreadr  \u001b[39m 2.1.2      \u001b[32m✔\u001b[39m \u001b[34mforcats\u001b[39m 0.5.2 \n",
      "── \u001b[1mConflicts\u001b[22m ────────────────────────────────────────── tidyverse_conflicts() ──\n",
      "\u001b[31m✖\u001b[39m \u001b[34mdplyr\u001b[39m::\u001b[32mfilter()\u001b[39m masks \u001b[34mstats\u001b[39m::filter()\n",
      "\u001b[31m✖\u001b[39m \u001b[34mdplyr\u001b[39m::\u001b[32mlag()\u001b[39m    masks \u001b[34mstats\u001b[39m::lag()\n"
     ]
    }
   ],
   "source": [
    "library(tidyverse)\n",
    "library(datateachr)\n",
    "library(repr)\n",
    "library(digest)\n",
    "library(infer)\n",
    "library(grid)"
   ]
  },
  {
   "cell_type": "markdown",
   "id": "c49f2e31-349f-48ad-ad32-7fdfd26f938d",
   "metadata": {},
   "source": [
    "## Dataset Info:\n",
    "\n",
    "The dataset is downloaded from \\\"[Vancouver Crime Data](https://geodash.vpd.ca/opendata/)\\\", an open data dataset provided by the Vancouver Police Department. Which we selected to list all the the crimes commited in every neighbourhood in Vancouver since 2003."
   ]
  },
  {
   "cell_type": "code",
   "execution_count": 2,
   "id": "00cc68d0-9bf3-497c-9250-49377f179972",
   "metadata": {},
   "outputs": [
    {
     "data": {
      "text/html": [
       "<table class=\"dataframe\">\n",
       "<caption>A data.frame: 6 × 10</caption>\n",
       "<thead>\n",
       "\t<tr><th></th><th scope=col>TYPE</th><th scope=col>YEAR</th><th scope=col>MONTH</th><th scope=col>DAY</th><th scope=col>HOUR</th><th scope=col>MINUTE</th><th scope=col>HUNDRED_BLOCK</th><th scope=col>NEIGHBOURHOOD</th><th scope=col>X</th><th scope=col>Y</th></tr>\n",
       "\t<tr><th></th><th scope=col>&lt;chr&gt;</th><th scope=col>&lt;int&gt;</th><th scope=col>&lt;int&gt;</th><th scope=col>&lt;int&gt;</th><th scope=col>&lt;int&gt;</th><th scope=col>&lt;int&gt;</th><th scope=col>&lt;chr&gt;</th><th scope=col>&lt;chr&gt;</th><th scope=col>&lt;dbl&gt;</th><th scope=col>&lt;dbl&gt;</th></tr>\n",
       "</thead>\n",
       "<tbody>\n",
       "\t<tr><th scope=row>1</th><td>Break and Enter Commercial</td><td>2012</td><td>12</td><td>14</td><td> 8</td><td>52</td><td>               </td><td>Oakridge</td><td>491285.0</td><td>5453433</td></tr>\n",
       "\t<tr><th scope=row>2</th><td>Break and Enter Commercial</td><td>2019</td><td> 3</td><td> 7</td><td> 2</td><td> 6</td><td>10XX SITKA SQ  </td><td>Fairview</td><td>490613.0</td><td>5457110</td></tr>\n",
       "\t<tr><th scope=row>3</th><td>Break and Enter Commercial</td><td>2019</td><td> 8</td><td>27</td><td> 4</td><td>12</td><td>10XX ALBERNI ST</td><td>West End</td><td>491007.8</td><td>5459174</td></tr>\n",
       "\t<tr><th scope=row>4</th><td>Break and Enter Commercial</td><td>2021</td><td> 4</td><td>26</td><td> 4</td><td>44</td><td>10XX ALBERNI ST</td><td>West End</td><td>491007.8</td><td>5459174</td></tr>\n",
       "\t<tr><th scope=row>5</th><td>Break and Enter Commercial</td><td>2014</td><td> 8</td><td> 8</td><td> 5</td><td>13</td><td>10XX ALBERNI ST</td><td>West End</td><td>491015.9</td><td>5459166</td></tr>\n",
       "\t<tr><th scope=row>6</th><td>Break and Enter Commercial</td><td>2020</td><td> 7</td><td>28</td><td>19</td><td>12</td><td>10XX ALBERNI ST</td><td>West End</td><td>491015.9</td><td>5459166</td></tr>\n",
       "</tbody>\n",
       "</table>\n"
      ],
      "text/latex": [
       "A data.frame: 6 × 10\n",
       "\\begin{tabular}{r|llllllllll}\n",
       "  & TYPE & YEAR & MONTH & DAY & HOUR & MINUTE & HUNDRED\\_BLOCK & NEIGHBOURHOOD & X & Y\\\\\n",
       "  & <chr> & <int> & <int> & <int> & <int> & <int> & <chr> & <chr> & <dbl> & <dbl>\\\\\n",
       "\\hline\n",
       "\t1 & Break and Enter Commercial & 2012 & 12 & 14 &  8 & 52 &                 & Oakridge & 491285.0 & 5453433\\\\\n",
       "\t2 & Break and Enter Commercial & 2019 &  3 &  7 &  2 &  6 & 10XX SITKA SQ   & Fairview & 490613.0 & 5457110\\\\\n",
       "\t3 & Break and Enter Commercial & 2019 &  8 & 27 &  4 & 12 & 10XX ALBERNI ST & West End & 491007.8 & 5459174\\\\\n",
       "\t4 & Break and Enter Commercial & 2021 &  4 & 26 &  4 & 44 & 10XX ALBERNI ST & West End & 491007.8 & 5459174\\\\\n",
       "\t5 & Break and Enter Commercial & 2014 &  8 &  8 &  5 & 13 & 10XX ALBERNI ST & West End & 491015.9 & 5459166\\\\\n",
       "\t6 & Break and Enter Commercial & 2020 &  7 & 28 & 19 & 12 & 10XX ALBERNI ST & West End & 491015.9 & 5459166\\\\\n",
       "\\end{tabular}\n"
      ],
      "text/markdown": [
       "\n",
       "A data.frame: 6 × 10\n",
       "\n",
       "| <!--/--> | TYPE &lt;chr&gt; | YEAR &lt;int&gt; | MONTH &lt;int&gt; | DAY &lt;int&gt; | HOUR &lt;int&gt; | MINUTE &lt;int&gt; | HUNDRED_BLOCK &lt;chr&gt; | NEIGHBOURHOOD &lt;chr&gt; | X &lt;dbl&gt; | Y &lt;dbl&gt; |\n",
       "|---|---|---|---|---|---|---|---|---|---|---|\n",
       "| 1 | Break and Enter Commercial | 2012 | 12 | 14 |  8 | 52 | <!----> | Oakridge | 491285.0 | 5453433 |\n",
       "| 2 | Break and Enter Commercial | 2019 |  3 |  7 |  2 |  6 | 10XX SITKA SQ   | Fairview | 490613.0 | 5457110 |\n",
       "| 3 | Break and Enter Commercial | 2019 |  8 | 27 |  4 | 12 | 10XX ALBERNI ST | West End | 491007.8 | 5459174 |\n",
       "| 4 | Break and Enter Commercial | 2021 |  4 | 26 |  4 | 44 | 10XX ALBERNI ST | West End | 491007.8 | 5459174 |\n",
       "| 5 | Break and Enter Commercial | 2014 |  8 |  8 |  5 | 13 | 10XX ALBERNI ST | West End | 491015.9 | 5459166 |\n",
       "| 6 | Break and Enter Commercial | 2020 |  7 | 28 | 19 | 12 | 10XX ALBERNI ST | West End | 491015.9 | 5459166 |\n",
       "\n"
      ],
      "text/plain": [
       "  TYPE                       YEAR MONTH DAY HOUR MINUTE HUNDRED_BLOCK  \n",
       "1 Break and Enter Commercial 2012 12    14   8   52                    \n",
       "2 Break and Enter Commercial 2019  3     7   2    6     10XX SITKA SQ  \n",
       "3 Break and Enter Commercial 2019  8    27   4   12     10XX ALBERNI ST\n",
       "4 Break and Enter Commercial 2021  4    26   4   44     10XX ALBERNI ST\n",
       "5 Break and Enter Commercial 2014  8     8   5   13     10XX ALBERNI ST\n",
       "6 Break and Enter Commercial 2020  7    28  19   12     10XX ALBERNI ST\n",
       "  NEIGHBOURHOOD X        Y      \n",
       "1 Oakridge      491285.0 5453433\n",
       "2 Fairview      490613.0 5457110\n",
       "3 West End      491007.8 5459174\n",
       "4 West End      491007.8 5459174\n",
       "5 West End      491015.9 5459166\n",
       "6 West End      491015.9 5459166"
      ]
     },
     "metadata": {},
     "output_type": "display_data"
    }
   ],
   "source": [
    "crime_data <- read.csv(\"crimedata_csv_AllNeighbourhoods_AllYears.csv\")\n",
    "head(crime_data)"
   ]
  },
  {
   "cell_type": "markdown",
   "id": "7a75073b-f417-451c-b04a-ae7b0078ee90",
   "metadata": {},
   "source": [
    "Because we want to have the crime data be more representative of the difference between the years leading up to the pandemic to the years during and after the pandemic, we will filter the data to only include years from 2017 onwards, and before November since 2022 has not had a November yet. We will also only need the columns containing the type of the crime, year the crime was committed."
   ]
  },
  {
   "cell_type": "code",
   "execution_count": 3,
   "id": "aa97a2f2-c80d-4a01-821e-ec10bc4f00fc",
   "metadata": {},
   "outputs": [
    {
     "data": {
      "text/html": [
       "<table class=\"dataframe\">\n",
       "<caption>A data.frame: 6 × 2</caption>\n",
       "<thead>\n",
       "\t<tr><th></th><th scope=col>TYPE</th><th scope=col>YEAR</th></tr>\n",
       "\t<tr><th></th><th scope=col>&lt;chr&gt;</th><th scope=col>&lt;int&gt;</th></tr>\n",
       "</thead>\n",
       "<tbody>\n",
       "\t<tr><th scope=row>1</th><td>Break and Enter Commercial</td><td>2019</td></tr>\n",
       "\t<tr><th scope=row>2</th><td>Break and Enter Commercial</td><td>2019</td></tr>\n",
       "\t<tr><th scope=row>3</th><td>Break and Enter Commercial</td><td>2021</td></tr>\n",
       "\t<tr><th scope=row>4</th><td>Break and Enter Commercial</td><td>2020</td></tr>\n",
       "\t<tr><th scope=row>5</th><td>Break and Enter Commercial</td><td>2022</td></tr>\n",
       "\t<tr><th scope=row>6</th><td>Break and Enter Commercial</td><td>2022</td></tr>\n",
       "</tbody>\n",
       "</table>\n"
      ],
      "text/latex": [
       "A data.frame: 6 × 2\n",
       "\\begin{tabular}{r|ll}\n",
       "  & TYPE & YEAR\\\\\n",
       "  & <chr> & <int>\\\\\n",
       "\\hline\n",
       "\t1 & Break and Enter Commercial & 2019\\\\\n",
       "\t2 & Break and Enter Commercial & 2019\\\\\n",
       "\t3 & Break and Enter Commercial & 2021\\\\\n",
       "\t4 & Break and Enter Commercial & 2020\\\\\n",
       "\t5 & Break and Enter Commercial & 2022\\\\\n",
       "\t6 & Break and Enter Commercial & 2022\\\\\n",
       "\\end{tabular}\n"
      ],
      "text/markdown": [
       "\n",
       "A data.frame: 6 × 2\n",
       "\n",
       "| <!--/--> | TYPE &lt;chr&gt; | YEAR &lt;int&gt; |\n",
       "|---|---|---|\n",
       "| 1 | Break and Enter Commercial | 2019 |\n",
       "| 2 | Break and Enter Commercial | 2019 |\n",
       "| 3 | Break and Enter Commercial | 2021 |\n",
       "| 4 | Break and Enter Commercial | 2020 |\n",
       "| 5 | Break and Enter Commercial | 2022 |\n",
       "| 6 | Break and Enter Commercial | 2022 |\n",
       "\n"
      ],
      "text/plain": [
       "  TYPE                       YEAR\n",
       "1 Break and Enter Commercial 2019\n",
       "2 Break and Enter Commercial 2019\n",
       "3 Break and Enter Commercial 2021\n",
       "4 Break and Enter Commercial 2020\n",
       "5 Break and Enter Commercial 2022\n",
       "6 Break and Enter Commercial 2022"
      ]
     },
     "metadata": {},
     "output_type": "display_data"
    }
   ],
   "source": [
    " crime_data_processed <- crime_data %>%\n",
    "    filter(YEAR >= 2017, MONTH <= 10) %>%\n",
    "    select(TYPE, YEAR)\n",
    "\n",
    "head(crime_data_processed)"
   ]
  },
  {
   "cell_type": "markdown",
   "id": "23b0eaed-fec3-45a3-9477-e735daa3ee19",
   "metadata": {},
   "source": [
    "We first decided to visualize the overall spread of crime over the six years by taking a sample of size 3000, and bootstrapping 1000 samples from it to see the overall"
   ]
  },
  {
   "cell_type": "code",
   "execution_count": 4,
   "id": "7679f326-a009-4c43-9e1f-d328cbca79ff",
   "metadata": {},
   "outputs": [
    {
     "data": {
      "text/html": [
       "<table class=\"dataframe\">\n",
       "<caption>A tibble: 6 × 2</caption>\n",
       "<thead>\n",
       "\t<tr><th scope=col>YEAR</th><th scope=col>n</th></tr>\n",
       "\t<tr><th scope=col>&lt;int&gt;</th><th scope=col>&lt;int&gt;</th></tr>\n",
       "</thead>\n",
       "<tbody>\n",
       "\t<tr><td>2017</td><td>35533</td></tr>\n",
       "\t<tr><td>2018</td><td>36855</td></tr>\n",
       "\t<tr><td>2019</td><td>40206</td></tr>\n",
       "\t<tr><td>2020</td><td>32051</td></tr>\n",
       "\t<tr><td>2021</td><td>26891</td></tr>\n",
       "\t<tr><td>2022</td><td>28600</td></tr>\n",
       "</tbody>\n",
       "</table>\n"
      ],
      "text/latex": [
       "A tibble: 6 × 2\n",
       "\\begin{tabular}{ll}\n",
       " YEAR & n\\\\\n",
       " <int> & <int>\\\\\n",
       "\\hline\n",
       "\t 2017 & 35533\\\\\n",
       "\t 2018 & 36855\\\\\n",
       "\t 2019 & 40206\\\\\n",
       "\t 2020 & 32051\\\\\n",
       "\t 2021 & 26891\\\\\n",
       "\t 2022 & 28600\\\\\n",
       "\\end{tabular}\n"
      ],
      "text/markdown": [
       "\n",
       "A tibble: 6 × 2\n",
       "\n",
       "| YEAR &lt;int&gt; | n &lt;int&gt; |\n",
       "|---|---|\n",
       "| 2017 | 35533 |\n",
       "| 2018 | 36855 |\n",
       "| 2019 | 40206 |\n",
       "| 2020 | 32051 |\n",
       "| 2021 | 26891 |\n",
       "| 2022 | 28600 |\n",
       "\n"
      ],
      "text/plain": [
       "  YEAR n    \n",
       "1 2017 35533\n",
       "2 2018 36855\n",
       "3 2019 40206\n",
       "4 2020 32051\n",
       "5 2021 26891\n",
       "6 2022 28600"
      ]
     },
     "metadata": {},
     "output_type": "display_data"
    }
   ],
   "source": [
    "# create bootstrap samples of the difference in proportion of crimes commited before the pandemic \n",
    "# (YEAR < 2020), and obtain a 95% confidence interval from this\n",
    "\n",
    "crime_data_processed %>%\n",
    "group_by(YEAR) %>%\n",
    "summarize(n = n())\n"
   ]
  },
  {
   "cell_type": "markdown",
   "id": "e6179059-bb3d-4bea-91f1-51a4ceb6e4fa",
   "metadata": {},
   "source": [
    "Because this is a large dataset, we have the luxury of creating many large samples, and with those large samples we could apply the central limit theorem to get more crucial data."
   ]
  },
  {
   "cell_type": "code",
   "execution_count": 5,
   "id": "e474cc8a-8fbf-4614-9ee8-97dc31ed8104",
   "metadata": {},
   "outputs": [],
   "source": [
    "# calculate mean and standard deviation on the difference between the total amount of \n",
    "# crime before and after the pandemic using the central limit theorem and obtain a 95% \n",
    "# confidence interval from this"
   ]
  },
  {
   "cell_type": "code",
   "execution_count": 9,
   "id": "7f598520-7094-4e15-80c6-ea4dc4b993c2",
   "metadata": {},
   "outputs": [
    {
     "data": {
      "text/html": [
       "<table class=\"dataframe\">\n",
       "<caption>A grouped_df: 6 × 4</caption>\n",
       "<thead>\n",
       "\t<tr><th scope=col>replicate</th><th scope=col>TYPE</th><th scope=col>YEAR</th><th scope=col>Pandemic</th></tr>\n",
       "\t<tr><th scope=col>&lt;int&gt;</th><th scope=col>&lt;chr&gt;</th><th scope=col>&lt;int&gt;</th><th scope=col>&lt;chr&gt;</th></tr>\n",
       "</thead>\n",
       "<tbody>\n",
       "\t<tr><td>1</td><td>Theft from Vehicle</td><td>2018</td><td>Before</td></tr>\n",
       "\t<tr><td>1</td><td>Theft from Vehicle</td><td>2018</td><td>Before</td></tr>\n",
       "\t<tr><td>1</td><td>Theft from Vehicle</td><td>2018</td><td>Before</td></tr>\n",
       "\t<tr><td>1</td><td>Other Theft       </td><td>2022</td><td>After </td></tr>\n",
       "\t<tr><td>1</td><td>Mischief          </td><td>2021</td><td>After </td></tr>\n",
       "\t<tr><td>1</td><td>Theft of Bicycle  </td><td>2017</td><td>Before</td></tr>\n",
       "</tbody>\n",
       "</table>\n"
      ],
      "text/latex": [
       "A grouped\\_df: 6 × 4\n",
       "\\begin{tabular}{llll}\n",
       " replicate & TYPE & YEAR & Pandemic\\\\\n",
       " <int> & <chr> & <int> & <chr>\\\\\n",
       "\\hline\n",
       "\t 1 & Theft from Vehicle & 2018 & Before\\\\\n",
       "\t 1 & Theft from Vehicle & 2018 & Before\\\\\n",
       "\t 1 & Theft from Vehicle & 2018 & Before\\\\\n",
       "\t 1 & Other Theft        & 2022 & After \\\\\n",
       "\t 1 & Mischief           & 2021 & After \\\\\n",
       "\t 1 & Theft of Bicycle   & 2017 & Before\\\\\n",
       "\\end{tabular}\n"
      ],
      "text/markdown": [
       "\n",
       "A grouped_df: 6 × 4\n",
       "\n",
       "| replicate &lt;int&gt; | TYPE &lt;chr&gt; | YEAR &lt;int&gt; | Pandemic &lt;chr&gt; |\n",
       "|---|---|---|---|\n",
       "| 1 | Theft from Vehicle | 2018 | Before |\n",
       "| 1 | Theft from Vehicle | 2018 | Before |\n",
       "| 1 | Theft from Vehicle | 2018 | Before |\n",
       "| 1 | Other Theft        | 2022 | After  |\n",
       "| 1 | Mischief           | 2021 | After  |\n",
       "| 1 | Theft of Bicycle   | 2017 | Before |\n",
       "\n"
      ],
      "text/plain": [
       "  replicate TYPE               YEAR Pandemic\n",
       "1 1         Theft from Vehicle 2018 Before  \n",
       "2 1         Theft from Vehicle 2018 Before  \n",
       "3 1         Theft from Vehicle 2018 Before  \n",
       "4 1         Other Theft        2022 After   \n",
       "5 1         Mischief           2021 After   \n",
       "6 1         Theft of Bicycle   2017 Before  "
      ]
     },
     "metadata": {},
     "output_type": "display_data"
    }
   ],
   "source": [
    "# take 1000 single sample with size 2000 from population\n",
    "\n",
    "set.seed(2190)\n",
    "\n",
    "crime_1000_samples <- crime_data_processed %>%\n",
    "    rep_sample_n(size = 2000, reps = 1000, replace = FALSE) %>%\n",
    "    mutate(Pandemic = ifelse(YEAR < 2020, \"Before\", \"After\"))\n",
    "head(crime_1000_samples)"
   ]
  },
  {
   "cell_type": "code",
   "execution_count": 7,
   "id": "9456f56a-7ffc-4766-8196-9623ddfcfb00",
   "metadata": {
    "tags": []
   },
   "outputs": [],
   "source": [
    "# number_of_crime <- crime_data_processed %>%\n",
    "# group_by(YEAR) %>%\n",
    "# summarize(n = n())\n",
    "# # number_of_crime \n",
    "\n",
    "# before <- number_of_crime %>%\n",
    "# filter(YEAR < 2020)\n",
    "# before\n",
    "# before_sum\n",
    "\n",
    "# after <- number_of_crime %>%\n",
    "# filter(YEAR >= 2020)\n",
    "# after\n",
    "\n",
    "# before_mean <- mean(before$n)\n",
    "# before_mean\n",
    "# before_sd <- sd(before$n)\n",
    "# before_sd\n",
    "# b_n <- nrow(before)\n",
    "# b_n\n",
    "\n",
    "# after_mean <- mean(after$n)\n",
    "# after_mean\n",
    "# after_sd <- sd(before$n)\n",
    "# after_sd\n",
    "# a_n <- nrow(after)\n",
    "# a_n\n",
    "\n",
    "\n",
    "# parking_clt_ci <- \n",
    "#     tibble(lower_ci = downtown_mean - kits_mean - qnorm(0.97) * sqrt(downtown_var + kits_var),\n",
    "#            upper_ci = downtown_mean - kits_mean + qnorm(0.97) * sqrt(downtown_var + kits_var)\n",
    "#     )\n"
   ]
  },
  {
   "cell_type": "markdown",
   "id": "2607de76-c1c0-430c-a7b1-25d88d0c0717",
   "metadata": {},
   "source": [
    "## Methods\n"
   ]
  },
  {
   "cell_type": "markdown",
   "id": "db8864b2-30d1-465c-8026-c26c3aa16c41",
   "metadata": {},
   "source": [
    "mention our plans for hypothesis testing, and future plans to test how different kinds of crimes have been affected."
   ]
  },
  {
   "cell_type": "markdown",
   "id": "efa7e9df-3253-43e8-b8a9-410651a714b9",
   "metadata": {
    "tags": []
   },
   "source": [
    "# References:\n",
    "\n",
    "Ferguson, E. (2015). Crime and punishment vocabulary with pronunciation. IELTS Liz. Retrieved October 31, 2022, from https://ieltsliz.com/crime-and-punishment-vocabulary/ \n",
    "\n",
    "n.a. (n.d.). Crime Data Download. VPD open data. Retrieved October 31, 2022, from https://geodash.vpd.ca/opendata/ \n",
    "\n",
    "Nivette, A.E., Zahnow, R., Aguilar, R. et al. A global analysis of the impact of COVID-19 stay-at-home restrictions on crime. Nat Hum Behav 5, 868–877 (2021). https://doi.org/10.1038/s41562-021-01139-z"
   ]
  }
 ],
 "metadata": {
  "kernelspec": {
   "display_name": "R",
   "language": "R",
   "name": "ir"
  },
  "language_info": {
   "codemirror_mode": "r",
   "file_extension": ".r",
   "mimetype": "text/x-r-source",
   "name": "R",
   "pygments_lexer": "r",
   "version": "4.1.3"
  }
 },
 "nbformat": 4,
 "nbformat_minor": 5
}
